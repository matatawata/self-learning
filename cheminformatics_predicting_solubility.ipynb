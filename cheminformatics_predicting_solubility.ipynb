{
 "cells": [
  {
   "cell_type": "markdown",
   "metadata": {
    "colab_type": "text",
    "id": "OQi3X7TNUl5Y"
   },
   "source": [
    "# **Cheminformatics in Python: Predicting Solubility of Molecules | End-to-End Data Science Project** \n",
    "\n",
    "Chanin Nantasenamat\n",
    "\n",
    "<i>[Data Professor YouTube channel](http://youtube.com/dataprofessor), http://youtube.com/dataprofessor </i>\n",
    "\n",
    "In this Jupyter notebook, we will dive into the world of Cheminformatics which lies at the interface of Informatics and Chemistry. We will be reproducing a research article (by John S. Delaney$^1$) by applying Linear Regression to predict the solubility of molecules (i.e. solubility of drugs is an important physicochemical property in Drug discovery, design and development).\n",
    "\n",
    "This idea for this notebook was inspired by the excellent blog post by Pat Walters$^2$ where he reproduced the linear regression model with similar degree of performance as that of Delaney. This example is also briefly described in the book ***Deep Learning for the Life Sciences: Applying Deep Learning to Genomics, Microscopy, Drug Discovery, and More***.$^3$"
   ]
  },
  {
   "cell_type": "markdown",
   "metadata": {
    "colab_type": "text",
    "id": "AQW_Ts66R4Ms"
   },
   "source": [
    "## **1. Install rdkit**"
   ]
  },
  {
   "cell_type": "code",
   "execution_count": null,
   "metadata": {
    "colab": {
     "base_uri": "https://localhost:8080/",
     "height": 1000
    },
    "colab_type": "code",
    "id": "-jNwdYoBR8ea",
    "outputId": "39acab32-ba2a-40ca-d219-58afc83974db"
   },
   "outputs": [],
   "source": [
    "! wget https://repo.anaconda.com/miniconda/Miniconda3-py37_4.8.2-Linux-x86_64.sh\n",
    "! chmod +x Miniconda3-py37_4.8.2-Linux-x86_64.sh\n",
    "! bash ./Miniconda3-py37_4.8.2-Linux-x86_64.sh -b -f -p /usr/local\n",
    "! conda install -c rdkit rdkit -y\n",
    "import sys\n",
    "sys.path.append('/usr/local/lib/python3.7/site-packages/')"
   ]
  },
  {
   "cell_type": "markdown",
   "metadata": {
    "colab_type": "text",
    "id": "H661uGwCNFMC"
   },
   "source": [
    "## **2. Delaney's solubility dataset**\n",
    "\n",
    "The original [Delaney's dataset](https://pubs.acs.org/doi/10.1021/ci034243x) available as a [Supplementary file](https://pubs.acs.org/doi/10.1021/ci034243x)$^4$. The full paper is entitled [ESOL:  Estimating Aqueous Solubility Directly from Molecular Structure](https://pubs.acs.org/doi/10.1021/ci034243x).$^1$"
   ]
  },
  {
   "cell_type": "markdown",
   "metadata": {
    "colab_type": "text",
    "id": "s6o9QzQnNRVx"
   },
   "source": [
    "### **2.1. Download the dataset**"
   ]
  },
  {
   "cell_type": "code",
   "execution_count": null,
   "metadata": {
    "colab": {
     "base_uri": "https://localhost:8080/",
     "height": 119
    },
    "colab_type": "code",
    "id": "6KKvV74LM1it",
    "outputId": "be1b6a80-0196-44ef-c1d0-4709e644bca8"
   },
   "outputs": [],
   "source": [
    "! wget https://pubs.acs.org/doi/suppl/10.1021/ci034243x/suppl_file/ci034243xsi20040112_053635.txt"
   ]
  },
  {
   "cell_type": "code",
   "execution_count": 8,
   "metadata": {
    "colab": {
     "base_uri": "https://localhost:8080/",
     "height": 204
    },
    "colab_type": "code",
    "id": "mBP_uaJZ710V",
    "outputId": "c52dd5b8-d6fd-4e00-f470-7bcd3cf41061"
   },
   "outputs": [
    {
     "name": "stdout",
     "output_type": "stream",
     "text": [
      "--2022-05-08 20:21:21--  https://raw.githubusercontent.com/dataprofessor/data/master/delaney.csv\n",
      "Resolving raw.githubusercontent.com (raw.githubusercontent.com)... 185.199.111.133, 185.199.109.133, 185.199.108.133, ...\n",
      "Connecting to raw.githubusercontent.com (raw.githubusercontent.com)|185.199.111.133|:443... connected.\n",
      "HTTP request sent, awaiting response... 200 OK\n",
      "Length: 58889 (58K) [text/plain]\n",
      "Saving to: ‘delaney.csv’\n",
      "\n",
      "delaney.csv         100%[===================>]  57,51K  --.-KB/s    in 0,01s   \n",
      "\n",
      "2022-05-08 20:21:21 (4,33 MB/s) - ‘delaney.csv’ saved [58889/58889]\n",
      "\n"
     ]
    }
   ],
   "source": [
    "! wget https://raw.githubusercontent.com/dataprofessor/data/master/delaney.csv"
   ]
  },
  {
   "cell_type": "markdown",
   "metadata": {
    "colab_type": "text",
    "id": "PJGp_xenNYKy"
   },
   "source": [
    "### **2.2. Read in the dataset**"
   ]
  },
  {
   "cell_type": "code",
   "execution_count": 9,
   "metadata": {
    "colab": {},
    "colab_type": "code",
    "id": "0ufiOpEbNooH"
   },
   "outputs": [],
   "source": [
    "import pandas as pd"
   ]
  },
  {
   "cell_type": "code",
   "execution_count": 14,
   "metadata": {
    "colab": {
     "base_uri": "https://localhost:8080/",
     "height": 419
    },
    "colab_type": "code",
    "id": "nLS6bwiRNtuV",
    "outputId": "3f5ab0eb-b65a-444d-e967-87eec5af8a66"
   },
   "outputs": [
    {
     "data": {
      "text/html": [
       "<div>\n",
       "<style scoped>\n",
       "    .dataframe tbody tr th:only-of-type {\n",
       "        vertical-align: middle;\n",
       "    }\n",
       "\n",
       "    .dataframe tbody tr th {\n",
       "        vertical-align: top;\n",
       "    }\n",
       "\n",
       "    .dataframe thead th {\n",
       "        text-align: right;\n",
       "    }\n",
       "</style>\n",
       "<table border=\"1\" class=\"dataframe\">\n",
       "  <thead>\n",
       "    <tr style=\"text-align: right;\">\n",
       "      <th></th>\n",
       "      <th>ompound ID</th>\n",
       "      <th>measured log(solubility:mol/L)</th>\n",
       "      <th>ESOL predicted log(solubility:mol/L)</th>\n",
       "      <th>SMILES</th>\n",
       "    </tr>\n",
       "  </thead>\n",
       "  <tbody>\n",
       "    <tr>\n",
       "      <th>0</th>\n",
       "      <td>1,1,1,2-Tetrachloroethane</td>\n",
       "      <td>-2.180</td>\n",
       "      <td>-2.794</td>\n",
       "      <td>ClCC(Cl)(Cl)Cl</td>\n",
       "    </tr>\n",
       "    <tr>\n",
       "      <th>1</th>\n",
       "      <td>1,1,1-Trichloroethane</td>\n",
       "      <td>-2.000</td>\n",
       "      <td>-2.232</td>\n",
       "      <td>CC(Cl)(Cl)Cl</td>\n",
       "    </tr>\n",
       "    <tr>\n",
       "      <th>2</th>\n",
       "      <td>1,1,2,2-Tetrachloroethane</td>\n",
       "      <td>-1.740</td>\n",
       "      <td>-2.549</td>\n",
       "      <td>ClC(Cl)C(Cl)Cl</td>\n",
       "    </tr>\n",
       "    <tr>\n",
       "      <th>3</th>\n",
       "      <td>1,1,2-Trichloroethane</td>\n",
       "      <td>-1.480</td>\n",
       "      <td>-1.961</td>\n",
       "      <td>ClCC(Cl)Cl</td>\n",
       "    </tr>\n",
       "    <tr>\n",
       "      <th>4</th>\n",
       "      <td>1,1,2-Trichlorotrifluoroethane</td>\n",
       "      <td>-3.040</td>\n",
       "      <td>-3.077</td>\n",
       "      <td>FC(F)(Cl)C(F)(Cl)Cl</td>\n",
       "    </tr>\n",
       "    <tr>\n",
       "      <th>...</th>\n",
       "      <td>...</td>\n",
       "      <td>...</td>\n",
       "      <td>...</td>\n",
       "      <td>...</td>\n",
       "    </tr>\n",
       "    <tr>\n",
       "      <th>1139</th>\n",
       "      <td>vamidothion</td>\n",
       "      <td>1.144</td>\n",
       "      <td>-1.446</td>\n",
       "      <td>CNC(=O)C(C)SCCSP(=O)(OC)(OC)</td>\n",
       "    </tr>\n",
       "    <tr>\n",
       "      <th>1140</th>\n",
       "      <td>Vinclozolin</td>\n",
       "      <td>-4.925</td>\n",
       "      <td>-4.377</td>\n",
       "      <td>CC1(OC(=O)N(C1=O)c2cc(Cl)cc(Cl)c2)C=C</td>\n",
       "    </tr>\n",
       "    <tr>\n",
       "      <th>1141</th>\n",
       "      <td>Warfarin</td>\n",
       "      <td>-3.893</td>\n",
       "      <td>-3.913</td>\n",
       "      <td>CC(=O)CC(c1ccccc1)c3c(O)c2ccccc2oc3=O</td>\n",
       "    </tr>\n",
       "    <tr>\n",
       "      <th>1142</th>\n",
       "      <td>Xipamide</td>\n",
       "      <td>-3.790</td>\n",
       "      <td>-3.642</td>\n",
       "      <td>Cc1cccc(C)c1NC(=O)c2cc(c(Cl)cc2O)S(N)(=O)=O</td>\n",
       "    </tr>\n",
       "    <tr>\n",
       "      <th>1143</th>\n",
       "      <td>XMC</td>\n",
       "      <td>-2.581</td>\n",
       "      <td>-2.688</td>\n",
       "      <td>CNC(=O)Oc1cc(C)cc(C)c1</td>\n",
       "    </tr>\n",
       "  </tbody>\n",
       "</table>\n",
       "<p>1144 rows × 4 columns</p>\n",
       "</div>"
      ],
      "text/plain": [
       "                          ompound ID  measured log(solubility:mol/L)  \\\n",
       "0          1,1,1,2-Tetrachloroethane                          -2.180   \n",
       "1              1,1,1-Trichloroethane                          -2.000   \n",
       "2          1,1,2,2-Tetrachloroethane                          -1.740   \n",
       "3              1,1,2-Trichloroethane                          -1.480   \n",
       "4     1,1,2-Trichlorotrifluoroethane                          -3.040   \n",
       "...                              ...                             ...   \n",
       "1139                     vamidothion                           1.144   \n",
       "1140                     Vinclozolin                          -4.925   \n",
       "1141                        Warfarin                          -3.893   \n",
       "1142                        Xipamide                          -3.790   \n",
       "1143                             XMC                          -2.581   \n",
       "\n",
       "      ESOL predicted log(solubility:mol/L)  \\\n",
       "0                                   -2.794   \n",
       "1                                   -2.232   \n",
       "2                                   -2.549   \n",
       "3                                   -1.961   \n",
       "4                                   -3.077   \n",
       "...                                    ...   \n",
       "1139                                -1.446   \n",
       "1140                                -4.377   \n",
       "1141                                -3.913   \n",
       "1142                                -3.642   \n",
       "1143                                -2.688   \n",
       "\n",
       "                                           SMILES  \n",
       "0                                  ClCC(Cl)(Cl)Cl  \n",
       "1                                    CC(Cl)(Cl)Cl  \n",
       "2                                  ClC(Cl)C(Cl)Cl  \n",
       "3                                      ClCC(Cl)Cl  \n",
       "4                             FC(F)(Cl)C(F)(Cl)Cl  \n",
       "...                                           ...  \n",
       "1139                 CNC(=O)C(C)SCCSP(=O)(OC)(OC)  \n",
       "1140        CC1(OC(=O)N(C1=O)c2cc(Cl)cc(Cl)c2)C=C  \n",
       "1141       CC(=O)CC(c1ccccc1)c3c(O)c2ccccc2oc3=O   \n",
       "1142  Cc1cccc(C)c1NC(=O)c2cc(c(Cl)cc2O)S(N)(=O)=O  \n",
       "1143                       CNC(=O)Oc1cc(C)cc(C)c1  \n",
       "\n",
       "[1144 rows x 4 columns]"
      ]
     },
     "execution_count": 14,
     "metadata": {},
     "output_type": "execute_result"
    }
   ],
   "source": [
    "sol = pd.read_csv('sol_ej.csv')\n",
    "sol"
   ]
  },
  {
   "cell_type": "markdown",
   "metadata": {
    "colab_type": "text",
    "id": "cUzImGPEXZRn"
   },
   "source": [
    "### **2.3. Examining the SMILES data**"
   ]
  },
  {
   "cell_type": "markdown",
   "metadata": {
    "colab_type": "text",
    "id": "gGDLzIZmN5sJ"
   },
   "source": [
    "Chemical structures are encoded by a string of text known as **SMILES** which is an acronym for **Simplified Molecular-Input Line-Entry System**."
   ]
  },
  {
   "cell_type": "code",
   "execution_count": 13,
   "metadata": {
    "colab": {
     "base_uri": "https://localhost:8080/",
     "height": 221
    },
    "colab_type": "code",
    "id": "4pF777dmOOZ3",
    "outputId": "c279ce95-5f43-4954-8c90-b82ae0fb8adb"
   },
   "outputs": [
    {
     "data": {
      "text/plain": [
       "0                                    ClCC(Cl)(Cl)Cl\n",
       "1                                      CC(Cl)(Cl)Cl\n",
       "2                                    ClC(Cl)C(Cl)Cl\n",
       "3                                        ClCC(Cl)Cl\n",
       "4                               FC(F)(Cl)C(F)(Cl)Cl\n",
       "                           ...                     \n",
       "1139                   CNC(=O)C(C)SCCSP(=O)(OC)(OC)\n",
       "1140          CC1(OC(=O)N(C1=O)c2cc(Cl)cc(Cl)c2)C=C\n",
       "1141         CC(=O)CC(c1ccccc1)c3c(O)c2ccccc2oc3=O \n",
       "1142    Cc1cccc(C)c1NC(=O)c2cc(c(Cl)cc2O)S(N)(=O)=O\n",
       "1143                         CNC(=O)Oc1cc(C)cc(C)c1\n",
       "Name: SMILES, Length: 1144, dtype: object"
      ]
     },
     "execution_count": 13,
     "metadata": {},
     "output_type": "execute_result"
    }
   ],
   "source": [
    "sol.SMILES"
   ]
  },
  {
   "cell_type": "markdown",
   "metadata": {
    "colab_type": "text",
    "id": "qHlN5973X6bJ"
   },
   "source": [
    "The first element from the **SMILES** column of the **sol** dataframe."
   ]
  },
  {
   "cell_type": "code",
   "execution_count": 4,
   "metadata": {
    "colab": {
     "base_uri": "https://localhost:8080/",
     "height": 34
    },
    "colab_type": "code",
    "id": "jN0dzq9dXF5N",
    "outputId": "5d00cbf5-2fa0-43c7-93fb-ad42a646a84a"
   },
   "outputs": [
    {
     "data": {
      "text/plain": [
       "'ClCC(Cl)(Cl)Cl'"
      ]
     },
     "execution_count": 4,
     "metadata": {},
     "output_type": "execute_result"
    }
   ],
   "source": [
    "sol.SMILES[0]"
   ]
  },
  {
   "cell_type": "markdown",
   "metadata": {
    "colab_type": "text",
    "id": "NO7tSBIeXQWk"
   },
   "source": [
    "### **2.4. Convert a molecule from the SMILES string to an rdkit object**"
   ]
  },
  {
   "cell_type": "code",
   "execution_count": 5,
   "metadata": {
    "colab": {},
    "colab_type": "code",
    "id": "BmlrBL_MOTkB"
   },
   "outputs": [],
   "source": [
    "from rdkit import Chem"
   ]
  },
  {
   "cell_type": "code",
   "execution_count": 15,
   "metadata": {
    "colab": {
     "base_uri": "https://localhost:8080/",
     "height": 34
    },
    "colab_type": "code",
    "id": "0f9JLRD0XO85",
    "outputId": "15a5a16d-102d-406f-fd57-a986c4632827"
   },
   "outputs": [
    {
     "data": {
      "image/png": "[encoded data removed]",
      "text/plain": [
       "<rdkit.Chem.rdchem.Mol at 0x7f50e6b3fd00>"
      ]
     },
     "execution_count": 15,
     "metadata": {},
     "output_type": "execute_result"
    }
   ],
   "source": [
    "Chem.MolFromSmiles(sol.SMILES[0])"
   ]
  },
  {
   "cell_type": "code",
   "execution_count": 7,
   "metadata": {
    "colab": {
     "base_uri": "https://localhost:8080/",
     "height": 34
    },
    "colab_type": "code",
    "id": "rwfN-yZYEFof",
    "outputId": "da010f69-bd9b-46d2-8732-92fa61255fa3"
   },
   "outputs": [
    {
     "data": {
      "image/png": "[encoded data removed]",
      "text/plain": [
       "<rdkit.Chem.rdchem.Mol at 0x7f50e6b3ff40>"
      ]
     },
     "execution_count": 7,
     "metadata": {},
     "output_type": "execute_result"
    }
   ],
   "source": [
    "Chem.MolFromSmiles('ClCC(Cl)(Cl)Cl')"
   ]
  },
  {
   "cell_type": "markdown",
   "metadata": {
    "colab_type": "text",
    "id": "MCdX2GjXFG-A"
   },
   "source": [
    "### **2.5. Working with rdkit object**"
   ]
  },
  {
   "cell_type": "code",
   "execution_count": 16,
   "metadata": {
    "colab": {},
    "colab_type": "code",
    "id": "8_6xQmjHFOo1"
   },
   "outputs": [],
   "source": [
    "m = Chem.MolFromSmiles('ClCC(Cl)(Cl)Cl')"
   ]
  },
  {
   "cell_type": "code",
   "execution_count": 17,
   "metadata": {
    "colab": {
     "base_uri": "https://localhost:8080/",
     "height": 34
    },
    "colab_type": "code",
    "id": "3dn79-t4FLgT",
    "outputId": "465dee18-e38a-47bb-d587-b9a478ee88f9"
   },
   "outputs": [
    {
     "data": {
      "text/plain": [
       "6"
      ]
     },
     "execution_count": 17,
     "metadata": {},
     "output_type": "execute_result"
    }
   ],
   "source": [
    "m.GetNumAtoms()"
   ]
  },
  {
   "cell_type": "markdown",
   "metadata": {
    "colab_type": "text",
    "id": "uqQLXGKQQAvX"
   },
   "source": [
    "## **3. Calculate molecular descriptors in rdkit**"
   ]
  },
  {
   "cell_type": "markdown",
   "metadata": {
    "colab_type": "text",
    "id": "iD_6apg8kYDy"
   },
   "source": [
    "### **3.1. Convert list of molecules to rdkit object**"
   ]
  },
  {
   "cell_type": "code",
   "execution_count": 18,
   "metadata": {
    "colab": {},
    "colab_type": "code",
    "id": "bQjMv-wLOlmg"
   },
   "outputs": [],
   "source": [
    "from rdkit import Chem"
   ]
  },
  {
   "cell_type": "markdown",
   "metadata": {
    "colab_type": "text",
    "id": "TyaEoBb5FiKc"
   },
   "source": [
    "#### **3.1.1. Method 1**"
   ]
  },
  {
   "cell_type": "code",
   "execution_count": 19,
   "metadata": {
    "colab": {},
    "colab_type": "code",
    "id": "JisoMYFgka_p"
   },
   "outputs": [],
   "source": [
    "mol_list= []\n",
    "for element in sol.SMILES:\n",
    "  mol = Chem.MolFromSmiles(element)\n",
    "  mol_list.append(mol)"
   ]
  },
  {
   "cell_type": "code",
   "execution_count": 20,
   "metadata": {
    "colab": {
     "base_uri": "https://localhost:8080/",
     "height": 34
    },
    "colab_type": "code",
    "id": "ZL7fG5Aok0Gh",
    "outputId": "a6e9949d-dc38-48e8-e327-d7828c3ad6c9"
   },
   "outputs": [
    {
     "data": {
      "text/plain": [
       "1144"
      ]
     },
     "execution_count": 20,
     "metadata": {},
     "output_type": "execute_result"
    }
   ],
   "source": [
    "len(mol_list)"
   ]
  },
  {
   "cell_type": "code",
   "execution_count": 21,
   "metadata": {
    "colab": {
     "base_uri": "https://localhost:8080/",
     "height": 102
    },
    "colab_type": "code",
    "id": "WiGYdtPUk3hV",
    "outputId": "b633b242-3ef7-48b9-eef8-9c70bbce7479"
   },
   "outputs": [
    {
     "data": {
      "text/plain": [
       "[<rdkit.Chem.rdchem.Mol at 0x7f50e58b0d00>,\n",
       " <rdkit.Chem.rdchem.Mol at 0x7f50e58b0d60>,\n",
       " <rdkit.Chem.rdchem.Mol at 0x7f50e58b0940>,\n",
       " <rdkit.Chem.rdchem.Mol at 0x7f50e58b0a00>,\n",
       " <rdkit.Chem.rdchem.Mol at 0x7f50e58b03a0>]"
      ]
     },
     "execution_count": 21,
     "metadata": {},
     "output_type": "execute_result"
    }
   ],
   "source": [
    "mol_list[:5]"
   ]
  },
  {
   "cell_type": "markdown",
   "metadata": {
    "colab_type": "text",
    "id": "-rBxrxF8Fk5S"
   },
   "source": [
    "#### **3.1.2. Method 2**"
   ]
  },
  {
   "cell_type": "code",
   "execution_count": null,
   "metadata": {
    "colab": {},
    "colab_type": "code",
    "id": "AaHAVM2yFm3J"
   },
   "outputs": [],
   "source": [
    "mol_list2 = [Chem.MolFromSmiles(element) for element in sol.SMILES]"
   ]
  },
  {
   "cell_type": "code",
   "execution_count": null,
   "metadata": {
    "colab": {
     "base_uri": "https://localhost:8080/",
     "height": 34
    },
    "colab_type": "code",
    "id": "Fw5BCeh7F2c9",
    "outputId": "cb79735b-e691-4d01-ff4e-f41ed55a130e"
   },
   "outputs": [],
   "source": [
    "len(mol_list2)"
   ]
  },
  {
   "cell_type": "code",
   "execution_count": null,
   "metadata": {
    "colab": {
     "base_uri": "https://localhost:8080/",
     "height": 102
    },
    "colab_type": "code",
    "id": "uASSo7ZMF5iv",
    "outputId": "846333e8-5c46-49ee-8746-3a260b830f59"
   },
   "outputs": [],
   "source": [
    "mol_list2[:5]"
   ]
  },
  {
   "cell_type": "markdown",
   "metadata": {
    "colab_type": "text",
    "id": "olyPX1TjQMvr"
   },
   "source": [
    "### **3.2. Calculate molecular descriptors**\n",
    "\n",
    "To predict **LogS** (log of the aqueous solubility), the study by Delaney makes use of 4 molecular descriptors:\n",
    "1. **cLogP** *(Octanol-water partition coefficient)*\n",
    "2. **MW** *(Molecular weight)*\n",
    "3. **RB** *(Number of rotatable bonds)*\n",
    "4. **AP** *(Aromatic proportion = number of aromatic atoms / total number of heavy atoms)*\n",
    "\n",
    "Unfortunately, rdkit readily computes the first 3. As for the AP descriptor, we will calculate this by manually computing the ratio of the *number of aromatic atoms* to the *total number of heavy atoms* which rdkit can compute."
   ]
  },
  {
   "cell_type": "markdown",
   "metadata": {
    "colab_type": "text",
    "id": "k4fqhekzCB-X"
   },
   "source": [
    "#### **3.2.1. LogP, MW and RB**"
   ]
  },
  {
   "cell_type": "code",
   "execution_count": 22,
   "metadata": {
    "colab": {},
    "colab_type": "code",
    "id": "iS4w5r5ocxT8"
   },
   "outputs": [],
   "source": [
    "import numpy as np\n",
    "from rdkit.Chem import Descriptors"
   ]
  },
  {
   "cell_type": "code",
   "execution_count": 23,
   "metadata": {
    "colab": {},
    "colab_type": "code",
    "id": "WkNMPVu_giw8"
   },
   "outputs": [],
   "source": [
    "# Inspired by: https://codeocean.com/explore/capsules?query=tag:data-curation\n",
    "\n",
    "def generate(smiles, verbose=False):\n",
    "\n",
    "    moldata= []\n",
    "    for elem in smiles:\n",
    "        mol=Chem.MolFromSmiles(elem) \n",
    "        moldata.append(mol)\n",
    "       \n",
    "    baseData= np.arange(1,1)\n",
    "    i=0  \n",
    "    for mol in moldata:        \n",
    "       \n",
    "        desc_MolLogP = Descriptors.MolLogP(mol)\n",
    "        desc_MolWt = Descriptors.MolWt(mol)\n",
    "        desc_NumRotatableBonds = Descriptors.NumRotatableBonds(mol)\n",
    "           \n",
    "        row = np.array([desc_MolLogP,\n",
    "                        desc_MolWt,\n",
    "                        desc_NumRotatableBonds])   \n",
    "    \n",
    "        if(i==0):\n",
    "            baseData=row\n",
    "        else:\n",
    "            baseData=np.vstack([baseData, row])\n",
    "        i=i+1      \n",
    "    \n",
    "    columnNames=[\"MolLogP\",\"MolWt\",\"NumRotatableBonds\"]   \n",
    "    descriptors = pd.DataFrame(data=baseData,columns=columnNames)\n",
    "    \n",
    "    return descriptors"
   ]
  },
  {
   "cell_type": "code",
   "execution_count": 24,
   "metadata": {
    "colab": {
     "base_uri": "https://localhost:8080/",
     "height": 419
    },
    "colab_type": "code",
    "id": "MzMulCVvcf59",
    "outputId": "ce540885-1126-48a1-d02f-7a1bbdda14cc"
   },
   "outputs": [
    {
     "data": {
      "text/html": [
       "<div>\n",
       "<style scoped>\n",
       "    .dataframe tbody tr th:only-of-type {\n",
       "        vertical-align: middle;\n",
       "    }\n",
       "\n",
       "    .dataframe tbody tr th {\n",
       "        vertical-align: top;\n",
       "    }\n",
       "\n",
       "    .dataframe thead th {\n",
       "        text-align: right;\n",
       "    }\n",
       "</style>\n",
       "<table border=\"1\" class=\"dataframe\">\n",
       "  <thead>\n",
       "    <tr style=\"text-align: right;\">\n",
       "      <th></th>\n",
       "      <th>MolLogP</th>\n",
       "      <th>MolWt</th>\n",
       "      <th>NumRotatableBonds</th>\n",
       "    </tr>\n",
       "  </thead>\n",
       "  <tbody>\n",
       "    <tr>\n",
       "      <th>0</th>\n",
       "      <td>2.59540</td>\n",
       "      <td>167.850</td>\n",
       "      <td>0.0</td>\n",
       "    </tr>\n",
       "    <tr>\n",
       "      <th>1</th>\n",
       "      <td>2.37650</td>\n",
       "      <td>133.405</td>\n",
       "      <td>0.0</td>\n",
       "    </tr>\n",
       "    <tr>\n",
       "      <th>2</th>\n",
       "      <td>2.59380</td>\n",
       "      <td>167.850</td>\n",
       "      <td>1.0</td>\n",
       "    </tr>\n",
       "    <tr>\n",
       "      <th>3</th>\n",
       "      <td>2.02890</td>\n",
       "      <td>133.405</td>\n",
       "      <td>1.0</td>\n",
       "    </tr>\n",
       "    <tr>\n",
       "      <th>4</th>\n",
       "      <td>2.91890</td>\n",
       "      <td>187.375</td>\n",
       "      <td>1.0</td>\n",
       "    </tr>\n",
       "    <tr>\n",
       "      <th>...</th>\n",
       "      <td>...</td>\n",
       "      <td>...</td>\n",
       "      <td>...</td>\n",
       "    </tr>\n",
       "    <tr>\n",
       "      <th>1139</th>\n",
       "      <td>1.98820</td>\n",
       "      <td>287.343</td>\n",
       "      <td>8.0</td>\n",
       "    </tr>\n",
       "    <tr>\n",
       "      <th>1140</th>\n",
       "      <td>3.42130</td>\n",
       "      <td>286.114</td>\n",
       "      <td>2.0</td>\n",
       "    </tr>\n",
       "    <tr>\n",
       "      <th>1141</th>\n",
       "      <td>3.60960</td>\n",
       "      <td>308.333</td>\n",
       "      <td>4.0</td>\n",
       "    </tr>\n",
       "    <tr>\n",
       "      <th>1142</th>\n",
       "      <td>2.56214</td>\n",
       "      <td>354.815</td>\n",
       "      <td>3.0</td>\n",
       "    </tr>\n",
       "    <tr>\n",
       "      <th>1143</th>\n",
       "      <td>2.02164</td>\n",
       "      <td>179.219</td>\n",
       "      <td>1.0</td>\n",
       "    </tr>\n",
       "  </tbody>\n",
       "</table>\n",
       "<p>1144 rows × 3 columns</p>\n",
       "</div>"
      ],
      "text/plain": [
       "      MolLogP    MolWt  NumRotatableBonds\n",
       "0     2.59540  167.850                0.0\n",
       "1     2.37650  133.405                0.0\n",
       "2     2.59380  167.850                1.0\n",
       "3     2.02890  133.405                1.0\n",
       "4     2.91890  187.375                1.0\n",
       "...       ...      ...                ...\n",
       "1139  1.98820  287.343                8.0\n",
       "1140  3.42130  286.114                2.0\n",
       "1141  3.60960  308.333                4.0\n",
       "1142  2.56214  354.815                3.0\n",
       "1143  2.02164  179.219                1.0\n",
       "\n",
       "[1144 rows x 3 columns]"
      ]
     },
     "execution_count": 24,
     "metadata": {},
     "output_type": "execute_result"
    }
   ],
   "source": [
    "df = generate(sol.SMILES)\n",
    "df"
   ]
  },
  {
   "cell_type": "markdown",
   "metadata": {
    "colab_type": "text",
    "id": "XtlGQy82OiCm"
   },
   "source": [
    "#### **3.2.2. Aromatic proportion**"
   ]
  },
  {
   "cell_type": "markdown",
   "metadata": {
    "colab_type": "text",
    "id": "YVK5WqOYSmY8"
   },
   "source": [
    "##### 3.2.1.1. Number of aromatic atoms\n",
    "\n",
    "Here, we will create a custom function to calculate the **Number of aromatic atoms**. With this descriptor we can use it to subsequently calculate the AP descriptor."
   ]
  },
  {
   "cell_type": "markdown",
   "metadata": {
    "colab_type": "text",
    "id": "xcw9oaPR4NM1"
   },
   "source": [
    "Computing for a single molecule."
   ]
  },
  {
   "cell_type": "code",
   "execution_count": 25,
   "metadata": {
    "colab": {},
    "colab_type": "code",
    "id": "1fJVXNHCSfLk"
   },
   "outputs": [],
   "source": [
    "m = Chem.MolFromSmiles('COc1cccc2cc(C(=O)NCCCCN3CCN(c4cccc5nccnc54)CC3)oc21')"
   ]
  },
  {
   "cell_type": "code",
   "execution_count": 26,
   "metadata": {
    "colab": {
     "base_uri": "https://localhost:8080/",
     "height": 595
    },
    "colab_type": "code",
    "id": "FENb_2BkYyVq",
    "outputId": "5d93cc1d-4761-43a1-acfd-0adb9b119d41"
   },
   "outputs": [
    {
     "data": {
      "text/plain": [
       "[False,\n",
       " False,\n",
       " True,\n",
       " True,\n",
       " True,\n",
       " True,\n",
       " True,\n",
       " True,\n",
       " True,\n",
       " False,\n",
       " False,\n",
       " False,\n",
       " False,\n",
       " False,\n",
       " False,\n",
       " False,\n",
       " False,\n",
       " False,\n",
       " False,\n",
       " False,\n",
       " True,\n",
       " True,\n",
       " True,\n",
       " True,\n",
       " True,\n",
       " True,\n",
       " True,\n",
       " True,\n",
       " True,\n",
       " True,\n",
       " False,\n",
       " False,\n",
       " True,\n",
       " True]"
      ]
     },
     "execution_count": 26,
     "metadata": {},
     "output_type": "execute_result"
    }
   ],
   "source": [
    "aromatic_atoms = [m.GetAtomWithIdx(i).GetIsAromatic() for i in range(m.GetNumAtoms())]\n",
    "aromatic_atoms"
   ]
  },
  {
   "cell_type": "code",
   "execution_count": 27,
   "metadata": {
    "colab": {},
    "colab_type": "code",
    "id": "nIF7IrIlcGPD"
   },
   "outputs": [],
   "source": [
    "def AromaticAtoms(m):\n",
    "  aromatic_atoms = [m.GetAtomWithIdx(i).GetIsAromatic() for i in range(m.GetNumAtoms())]\n",
    "  aa_count = []\n",
    "  for i in aromatic_atoms:\n",
    "    if i==True:\n",
    "      aa_count.append(1)\n",
    "  sum_aa_count = sum(aa_count)\n",
    "  return sum_aa_count"
   ]
  },
  {
   "cell_type": "code",
   "execution_count": 28,
   "metadata": {
    "colab": {
     "base_uri": "https://localhost:8080/",
     "height": 34
    },
    "colab_type": "code",
    "id": "PK-RJ-dpbqhn",
    "outputId": "c4416942-8d37-4b65-ee3e-796a54874ad3"
   },
   "outputs": [
    {
     "data": {
      "text/plain": [
       "19"
      ]
     },
     "execution_count": 28,
     "metadata": {},
     "output_type": "execute_result"
    }
   ],
   "source": [
    "AromaticAtoms(m)"
   ]
  },
  {
   "cell_type": "markdown",
   "metadata": {
    "colab_type": "text",
    "id": "-uywPiwe4O31"
   },
   "source": [
    "Computing for molecules in the entire dataset."
   ]
  },
  {
   "cell_type": "code",
   "execution_count": 30,
   "metadata": {
    "colab": {
     "base_uri": "https://localhost:8080/",
     "height": 1000
    },
    "colab_type": "code",
    "id": "jCeydvky4Rgl",
    "outputId": "0c062a2d-abf8-406b-83ef-55abe6625460"
   },
   "outputs": [],
   "source": [
    "desc_AromaticAtoms = [AromaticAtoms(element) for element in mol_list]\n",
    "desc_AromaticAtoms"
   ]
  },
  {
   "cell_type": "markdown",
   "metadata": {
    "colab_type": "text",
    "id": "rXGyuCnbOplQ"
   },
   "source": [
    "##### 3.2.1.2. **Number of heavy atoms**\n",
    "\n",
    "Here, we will use an existing function for calculating the Number of heavy atoms."
   ]
  },
  {
   "cell_type": "markdown",
   "metadata": {
    "colab_type": "text",
    "id": "Wgf1teHz3_pP"
   },
   "source": [
    "Computing for a single molecule."
   ]
  },
  {
   "cell_type": "code",
   "execution_count": 31,
   "metadata": {
    "colab": {
     "base_uri": "https://localhost:8080/",
     "height": 34
    },
    "colab_type": "code",
    "id": "jVwvt02AOvhv",
    "outputId": "9da3e232-6f78-48ac-cce9-f537ace852e6"
   },
   "outputs": [
    {
     "data": {
      "text/plain": [
       "34"
      ]
     },
     "execution_count": 31,
     "metadata": {},
     "output_type": "execute_result"
    }
   ],
   "source": [
    "m = Chem.MolFromSmiles('COc1cccc2cc(C(=O)NCCCCN3CCN(c4cccc5nccnc54)CC3)oc21')\n",
    "Descriptors.HeavyAtomCount(m)"
   ]
  },
  {
   "cell_type": "markdown",
   "metadata": {
    "colab_type": "text",
    "id": "Pv_BJcjA4HPz"
   },
   "source": [
    "Computing for molecules in the entire dataset."
   ]
  },
  {
   "cell_type": "code",
   "execution_count": 32,
   "metadata": {
    "colab": {
     "base_uri": "https://localhost:8080/",
     "height": 1000
    },
    "colab_type": "code",
    "id": "m9nsQqIkOuIU",
    "outputId": "794d85da-8dcc-45f8-eadd-583e27a2efc5"
   },
   "outputs": [
    {
     "data": {
      "text/plain": [
       "[6,\n",
       " 5,\n",
       " 6,\n",
       " 5,\n",
       " 8,\n",
       " 4,\n",
       " 4,\n",
       " 8,\n",
       " 10,\n",
       " 10,\n",
       " 10,\n",
       " 9,\n",
       " 9,\n",
       " 10,\n",
       " 10,\n",
       " 10,\n",
       " 9,\n",
       " 9,\n",
       " 9,\n",
       " 8,\n",
       " 8,\n",
       " 4,\n",
       " 8,\n",
       " 4,\n",
       " 5,\n",
       " 8,\n",
       " 8,\n",
       " 10,\n",
       " 12,\n",
       " 4,\n",
       " 9,\n",
       " 9,\n",
       " 9,\n",
       " 15,\n",
       " 8,\n",
       " 4,\n",
       " 8,\n",
       " 8,\n",
       " 5,\n",
       " 8,\n",
       " 8,\n",
       " 12,\n",
       " 12,\n",
       " 8,\n",
       " 6,\n",
       " 8,\n",
       " 8,\n",
       " 10,\n",
       " 8,\n",
       " 12,\n",
       " 12,\n",
       " 5,\n",
       " 12,\n",
       " 6,\n",
       " 14,\n",
       " 11,\n",
       " 22,\n",
       " 15,\n",
       " 5,\n",
       " 5,\n",
       " 8,\n",
       " 7,\n",
       " 11,\n",
       " 9,\n",
       " 6,\n",
       " 4,\n",
       " 5,\n",
       " 4,\n",
       " 4,\n",
       " 4,\n",
       " 5,\n",
       " 5,\n",
       " 8,\n",
       " 7,\n",
       " 11,\n",
       " 6,\n",
       " 4,\n",
       " 11,\n",
       " 10,\n",
       " 13,\n",
       " 12,\n",
       " 8,\n",
       " 7,\n",
       " 7,\n",
       " 17,\n",
       " 7,\n",
       " 6,\n",
       " 7,\n",
       " 6,\n",
       " 5,\n",
       " 8,\n",
       " 11,\n",
       " 4,\n",
       " 7,\n",
       " 14,\n",
       " 11,\n",
       " 15,\n",
       " 9,\n",
       " 11,\n",
       " 11,\n",
       " 13,\n",
       " 6,\n",
       " 10,\n",
       " 9,\n",
       " 9,\n",
       " 19,\n",
       " 9,\n",
       " 8,\n",
       " 8,\n",
       " 16,\n",
       " 6,\n",
       " 5,\n",
       " 5,\n",
       " 9,\n",
       " 4,\n",
       " 15,\n",
       " 22,\n",
       " 20,\n",
       " 18,\n",
       " 20,\n",
       " 18,\n",
       " 16,\n",
       " 19,\n",
       " 19,\n",
       " 18,\n",
       " 17,\n",
       " 17,\n",
       " 18,\n",
       " 16,\n",
       " 7,\n",
       " 18,\n",
       " 18,\n",
       " 16,\n",
       " 17,\n",
       " 8,\n",
       " 9,\n",
       " 16,\n",
       " 7,\n",
       " 6,\n",
       " 7,\n",
       " 8,\n",
       " 6,\n",
       " 14,\n",
       " 18,\n",
       " 19,\n",
       " 18,\n",
       " 17,\n",
       " 17,\n",
       " 16,\n",
       " 11,\n",
       " 11,\n",
       " 15,\n",
       " 15,\n",
       " 10,\n",
       " 8,\n",
       " 11,\n",
       " 15,\n",
       " 10,\n",
       " 10,\n",
       " 11,\n",
       " 9,\n",
       " 6,\n",
       " 6,\n",
       " 12,\n",
       " 7,\n",
       " 8,\n",
       " 15,\n",
       " 15,\n",
       " 10,\n",
       " 15,\n",
       " 10,\n",
       " 10,\n",
       " 16,\n",
       " 9,\n",
       " 8,\n",
       " 8,\n",
       " 8,\n",
       " 7,\n",
       " 9,\n",
       " 8,\n",
       " 13,\n",
       " 14,\n",
       " 14,\n",
       " 9,\n",
       " 12,\n",
       " 9,\n",
       " 8,\n",
       " 13,\n",
       " 14,\n",
       " 12,\n",
       " 15,\n",
       " 11,\n",
       " 11,\n",
       " 4,\n",
       " 8,\n",
       " 5,\n",
       " 5,\n",
       " 8,\n",
       " 6,\n",
       " 9,\n",
       " 13,\n",
       " 5,\n",
       " 11,\n",
       " 8,\n",
       " 4,\n",
       " 8,\n",
       " 6,\n",
       " 11,\n",
       " 8,\n",
       " 7,\n",
       " 9,\n",
       " 9,\n",
       " 7,\n",
       " 9,\n",
       " 12,\n",
       " 9,\n",
       " 8,\n",
       " 8,\n",
       " 7,\n",
       " 7,\n",
       " 11,\n",
       " 7,\n",
       " 4,\n",
       " 10,\n",
       " 12,\n",
       " 5,\n",
       " 5,\n",
       " 5,\n",
       " 6,\n",
       " 9,\n",
       " 8,\n",
       " 7,\n",
       " 7,\n",
       " 15,\n",
       " 6,\n",
       " 5,\n",
       " 6,\n",
       " 8,\n",
       " 11,\n",
       " 6,\n",
       " 7,\n",
       " 15,\n",
       " 8,\n",
       " 5,\n",
       " 4,\n",
       " 4,\n",
       " 11,\n",
       " 6,\n",
       " 11,\n",
       " 6,\n",
       " 10,\n",
       " 10,\n",
       " 9,\n",
       " 9,\n",
       " 6,\n",
       " 6,\n",
       " 10,\n",
       " 4,\n",
       " 6,\n",
       " 12,\n",
       " 7,\n",
       " 7,\n",
       " 7,\n",
       " 7,\n",
       " 11,\n",
       " 9,\n",
       " 9,\n",
       " 8,\n",
       " 14,\n",
       " 9,\n",
       " 9,\n",
       " 8,\n",
       " 26,\n",
       " 9,\n",
       " 13,\n",
       " 8,\n",
       " 5,\n",
       " 24,\n",
       " 8,\n",
       " 8,\n",
       " 29,\n",
       " 7,\n",
       " 7,\n",
       " 28,\n",
       " 6,\n",
       " 5,\n",
       " 6,\n",
       " 6,\n",
       " 7,\n",
       " 7,\n",
       " 7,\n",
       " 9,\n",
       " 8,\n",
       " 7,\n",
       " 6,\n",
       " 21,\n",
       " 8,\n",
       " 10,\n",
       " 6,\n",
       " 8,\n",
       " 9,\n",
       " 30,\n",
       " 6,\n",
       " 6,\n",
       " 27,\n",
       " 25,\n",
       " 14,\n",
       " 8,\n",
       " 8,\n",
       " 9,\n",
       " 8,\n",
       " 8,\n",
       " 9,\n",
       " 8,\n",
       " 8,\n",
       " 14,\n",
       " 7,\n",
       " 10,\n",
       " 12,\n",
       " 7,\n",
       " 7,\n",
       " 13,\n",
       " 7,\n",
       " 11,\n",
       " 13,\n",
       " 6,\n",
       " 16,\n",
       " 17,\n",
       " 15,\n",
       " 15,\n",
       " 11,\n",
       " 11,\n",
       " 20,\n",
       " 14,\n",
       " 15,\n",
       " 13,\n",
       " 18,\n",
       " 16,\n",
       " 14,\n",
       " 17,\n",
       " 9,\n",
       " 11,\n",
       " 12,\n",
       " 19,\n",
       " 9,\n",
       " 10,\n",
       " 19,\n",
       " 11,\n",
       " 12,\n",
       " 19,\n",
       " 20,\n",
       " 12,\n",
       " 11,\n",
       " 11,\n",
       " 16,\n",
       " 15,\n",
       " 15,\n",
       " 27,\n",
       " 12,\n",
       " 12,\n",
       " 10,\n",
       " 4,\n",
       " 10,\n",
       " 13,\n",
       " 3,\n",
       " 9,\n",
       " 20,\n",
       " 14,\n",
       " 4,\n",
       " 4,\n",
       " 10,\n",
       " 22,\n",
       " 18,\n",
       " 26,\n",
       " 18,\n",
       " 11,\n",
       " 9,\n",
       " 10,\n",
       " 10,\n",
       " 20,\n",
       " 15,\n",
       " 15,\n",
       " 32,\n",
       " 15,\n",
       " 17,\n",
       " 6,\n",
       " 22,\n",
       " 6,\n",
       " 16,\n",
       " 15,\n",
       " 19,\n",
       " 21,\n",
       " 21,\n",
       " 11,\n",
       " 7,\n",
       " 21,\n",
       " 8,\n",
       " 14,\n",
       " 16,\n",
       " 14,\n",
       " 22,\n",
       " 26,\n",
       " 15,\n",
       " 14,\n",
       " 16,\n",
       " 14,\n",
       " 14,\n",
       " 16,\n",
       " 13,\n",
       " 27,\n",
       " 23,\n",
       " 28,\n",
       " 16,\n",
       " 21,\n",
       " 23,\n",
       " 8,\n",
       " 9,\n",
       " 6,\n",
       " 14,\n",
       " 19,\n",
       " 17,\n",
       " 20,\n",
       " 20,\n",
       " 17,\n",
       " 20,\n",
       " 20,\n",
       " 20,\n",
       " 22,\n",
       " 12,\n",
       " 16,\n",
       " 8,\n",
       " 14,\n",
       " 9,\n",
       " 9,\n",
       " 9,\n",
       " 8,\n",
       " 10,\n",
       " 11,\n",
       " 34,\n",
       " 14,\n",
       " 12,\n",
       " 20,\n",
       " 11,\n",
       " 14,\n",
       " 35,\n",
       " 7,\n",
       " 3,\n",
       " 4,\n",
       " 3,\n",
       " 2,\n",
       " 16,\n",
       " 22,\n",
       " 11,\n",
       " 15,\n",
       " 21,\n",
       " 15,\n",
       " 19,\n",
       " 21,\n",
       " 17,\n",
       " 14,\n",
       " 5,\n",
       " 4,\n",
       " 5,\n",
       " 15,\n",
       " 17,\n",
       " 16,\n",
       " 7,\n",
       " 14,\n",
       " 10,\n",
       " 5,\n",
       " 14,\n",
       " 11,\n",
       " 7,\n",
       " 18,\n",
       " 16,\n",
       " 15,\n",
       " 13,\n",
       " 17,\n",
       " 16,\n",
       " 18,\n",
       " 16,\n",
       " 12,\n",
       " 11,\n",
       " 11,\n",
       " 17,\n",
       " 20,\n",
       " 17,\n",
       " 15,\n",
       " 15,\n",
       " 18,\n",
       " 16,\n",
       " 13,\n",
       " 27,\n",
       " 5,\n",
       " 4,\n",
       " 7,\n",
       " 4,\n",
       " 3,\n",
       " 3,\n",
       " 14,\n",
       " 7,\n",
       " 22,\n",
       " 14,\n",
       " 17,\n",
       " 14,\n",
       " 20,\n",
       " 18,\n",
       " 14,\n",
       " 22,\n",
       " 14,\n",
       " 11,\n",
       " 20,\n",
       " 18,\n",
       " 4,\n",
       " 8,\n",
       " 5,\n",
       " 11,\n",
       " 16,\n",
       " 22,\n",
       " 24,\n",
       " 25,\n",
       " 26,\n",
       " 29,\n",
       " 24,\n",
       " 22,\n",
       " 22,\n",
       " 16,\n",
       " 14,\n",
       " 17,\n",
       " 12,\n",
       " 7,\n",
       " 8,\n",
       " 7,\n",
       " 15,\n",
       " 6,\n",
       " 7,\n",
       " 7,\n",
       " 6,\n",
       " 20,\n",
       " 14,\n",
       " 8,\n",
       " 9,\n",
       " 16,\n",
       " 5,\n",
       " 5,\n",
       " 13,\n",
       " 11,\n",
       " 14,\n",
       " 29,\n",
       " 31,\n",
       " 28,\n",
       " 8,\n",
       " 25,\n",
       " 17,\n",
       " 18,\n",
       " 18,\n",
       " 19,\n",
       " 10,\n",
       " 17,\n",
       " 28,\n",
       " 24,\n",
       " 27,\n",
       " 22,\n",
       " 28,\n",
       " 31,\n",
       " 11,\n",
       " 28,\n",
       " 23,\n",
       " 23,\n",
       " 15,\n",
       " 20,\n",
       " 19,\n",
       " 13,\n",
       " 13,\n",
       " 3,\n",
       " 9,\n",
       " 22,\n",
       " 20,\n",
       " 17,\n",
       " 3,\n",
       " 17,\n",
       " 20,\n",
       " 19,\n",
       " 20,\n",
       " 20,\n",
       " 5,\n",
       " 16,\n",
       " 5,\n",
       " 6,\n",
       " 20,\n",
       " 21,\n",
       " 21,\n",
       " 54,\n",
       " 55,\n",
       " 24,\n",
       " 3,\n",
       " 28,\n",
       " 7,\n",
       " 7,\n",
       " 18,\n",
       " 23,\n",
       " 15,\n",
       " 15,\n",
       " 5,\n",
       " 14,\n",
       " 3,\n",
       " 4,\n",
       " 22,\n",
       " 17,\n",
       " 12,\n",
       " 7,\n",
       " 28,\n",
       " 30,\n",
       " 16,\n",
       " 18,\n",
       " 13,\n",
       " 13,\n",
       " 13,\n",
       " 7,\n",
       " 16,\n",
       " 14,\n",
       " 19,\n",
       " 14,\n",
       " 10,\n",
       " 14,\n",
       " 13,\n",
       " 18,\n",
       " 20,\n",
       " 19,\n",
       " 21,\n",
       " 21,\n",
       " 20,\n",
       " 20,\n",
       " 21,\n",
       " 8,\n",
       " 20,\n",
       " 11,\n",
       " 21,\n",
       " 20,\n",
       " 23,\n",
       " 2,\n",
       " 3,\n",
       " 3,\n",
       " 22,\n",
       " 15,\n",
       " 19,\n",
       " 15,\n",
       " 23,\n",
       " 19,\n",
       " 19,\n",
       " 16,\n",
       " 6,\n",
       " 11,\n",
       " 10,\n",
       " 13,\n",
       " 14,\n",
       " 5,\n",
       " 11,\n",
       " 10,\n",
       " 13,\n",
       " 12,\n",
       " 9,\n",
       " 7,\n",
       " 6,\n",
       " 5,\n",
       " 8,\n",
       " 8,\n",
       " 2,\n",
       " 12,\n",
       " 12,\n",
       " 2,\n",
       " 28,\n",
       " 18,\n",
       " 42,\n",
       " 11,\n",
       " 12,\n",
       " 22,\n",
       " 15,\n",
       " 17,\n",
       " 17,\n",
       " 22,\n",
       " 26,\n",
       " 18,\n",
       " 16,\n",
       " 12,\n",
       " 22,\n",
       " 33,\n",
       " 9,\n",
       " 27,\n",
       " 29,\n",
       " 28,\n",
       " 16,\n",
       " 16,\n",
       " 13,\n",
       " 7,\n",
       " 27,\n",
       " 16,\n",
       " 24,\n",
       " 19,\n",
       " 22,\n",
       " 35,\n",
       " 16,\n",
       " 14,\n",
       " 12,\n",
       " 5,\n",
       " 7,\n",
       " 19,\n",
       " 26,\n",
       " 12,\n",
       " 16,\n",
       " 6,\n",
       " 15,\n",
       " 24,\n",
       " 9,\n",
       " 11,\n",
       " 7,\n",
       " 22,\n",
       " 17,\n",
       " 7,\n",
       " 10,\n",
       " 8,\n",
       " 26,\n",
       " 16,\n",
       " 12,\n",
       " 6,\n",
       " 20,\n",
       " 12,\n",
       " 7,\n",
       " 14,\n",
       " 16,\n",
       " 17,\n",
       " 26,\n",
       " 29,\n",
       " 17,\n",
       " 24,\n",
       " 10,\n",
       " 9,\n",
       " 24,\n",
       " 9,\n",
       " 9,\n",
       " 9,\n",
       " 19,\n",
       " 7,\n",
       " 3,\n",
       " 16,\n",
       " 2,\n",
       " 11,\n",
       " 16,\n",
       " 18,\n",
       " 8,\n",
       " 7,\n",
       " 10,\n",
       " 13,\n",
       " 17,\n",
       " 22,\n",
       " 11,\n",
       " 10,\n",
       " 9,\n",
       " 8,\n",
       " 10,\n",
       " 14,\n",
       " 22,\n",
       " 7,\n",
       " 6,\n",
       " 9,\n",
       " 15,\n",
       " 10,\n",
       " 20,\n",
       " 24,\n",
       " 21,\n",
       " 19,\n",
       " 23,\n",
       " 10,\n",
       " 17,\n",
       " 11,\n",
       " 12,\n",
       " 15,\n",
       " 21,\n",
       " 29,\n",
       " 19,\n",
       " 11,\n",
       " 23,\n",
       " 12,\n",
       " 8,\n",
       " 8,\n",
       " 8,\n",
       " 10,\n",
       " 22,\n",
       " 19,\n",
       " 14,\n",
       " 25,\n",
       " 21,\n",
       " 20,\n",
       " 28,\n",
       " 13,\n",
       " 11,\n",
       " 11,\n",
       " 15,\n",
       " 10,\n",
       " 20,\n",
       " 1,\n",
       " 2,\n",
       " 19,\n",
       " 14,\n",
       " 16,\n",
       " 17,\n",
       " 22,\n",
       " 18,\n",
       " 16,\n",
       " 21,\n",
       " 5,\n",
       " 6,\n",
       " 10,\n",
       " 6,\n",
       " 8,\n",
       " 13,\n",
       " 4,\n",
       " 13,\n",
       " 9,\n",
       " 3,\n",
       " 15,\n",
       " 10,\n",
       " 12,\n",
       " 11,\n",
       " 8,\n",
       " 6,\n",
       " 5,\n",
       " 6,\n",
       " 7,\n",
       " 6,\n",
       " 20,\n",
       " 11,\n",
       " 25,\n",
       " 9,\n",
       " 19,\n",
       " 24,\n",
       " 11,\n",
       " 15,\n",
       " 12,\n",
       " 14,\n",
       " 12,\n",
       " 8,\n",
       " 15,\n",
       " 22,\n",
       " 8,\n",
       " 10,\n",
       " 10,\n",
       " 10,\n",
       " 14,\n",
       " 31,\n",
       " 13,\n",
       " 22,\n",
       " 8,\n",
       " 11,\n",
       " 6,\n",
       " 9,\n",
       " 13,\n",
       " 20,\n",
       " 18,\n",
       " 10,\n",
       " 17,\n",
       " 11,\n",
       " 9,\n",
       " 20,\n",
       " 21,\n",
       " 9,\n",
       " 25,\n",
       " 11,\n",
       " 22,\n",
       " 14,\n",
       " 22,\n",
       " 11,\n",
       " 21,\n",
       " 9,\n",
       " 5,\n",
       " 18,\n",
       " 17,\n",
       " 15,\n",
       " 4,\n",
       " 8,\n",
       " 9,\n",
       " 39,\n",
       " 16,\n",
       " 25,\n",
       " 23,\n",
       " 20,\n",
       " 18,\n",
       " 8,\n",
       " 8,\n",
       " 8,\n",
       " 8,\n",
       " 10,\n",
       " 8,\n",
       " 6,\n",
       " 8,\n",
       " 10,\n",
       " 9,\n",
       " 10,\n",
       " 11,\n",
       " 10,\n",
       " 10,\n",
       " 23,\n",
       " 18,\n",
       " 8,\n",
       " 22,\n",
       " 14,\n",
       " 20,\n",
       " 18,\n",
       " 8,\n",
       " 24,\n",
       " 14,\n",
       " 18,\n",
       " 18,\n",
       " 8,\n",
       " 8,\n",
       " 18,\n",
       " 14,\n",
       " 11,\n",
       " 8,\n",
       " 11,\n",
       " 8,\n",
       " 8,\n",
       " 8,\n",
       " 10,\n",
       " 8,\n",
       " 13,\n",
       " 23,\n",
       " 11,\n",
       " 7,\n",
       " 12,\n",
       " 11,\n",
       " 5,\n",
       " 16,\n",
       " 9,\n",
       " 9,\n",
       " 11,\n",
       " 10,\n",
       " 24,\n",
       " 26,\n",
       " 20,\n",
       " 11,\n",
       " 13,\n",
       " 14,\n",
       " 14,\n",
       " 9,\n",
       " 22,\n",
       " 17,\n",
       " 7,\n",
       " 24,\n",
       " 26,\n",
       " 23,\n",
       " 8,\n",
       " 8,\n",
       " 10,\n",
       " 19,\n",
       " 13,\n",
       " 21,\n",
       " 19,\n",
       " 11,\n",
       " 11,\n",
       " 10,\n",
       " 11,\n",
       " 9,\n",
       " 22,\n",
       " 21,\n",
       " 11,\n",
       " 21,\n",
       " 17,\n",
       " 23,\n",
       " 10,\n",
       " 8,\n",
       " 10,\n",
       " 11,\n",
       " 10,\n",
       " 10,\n",
       " 13,\n",
       " 21,\n",
       " 26,\n",
       " 29,\n",
       " 23,\n",
       " 16,\n",
       " 14,\n",
       " 18,\n",
       " 23,\n",
       " 16,\n",
       " 16,\n",
       " 14,\n",
       " 3,\n",
       " 13,\n",
       " 15,\n",
       " 17,\n",
       " 22,\n",
       " 4,\n",
       " 4,\n",
       " 15,\n",
       " 7,\n",
       " 7,\n",
       " 6,\n",
       " 8,\n",
       " 9,\n",
       " ...]"
      ]
     },
     "execution_count": 32,
     "metadata": {},
     "output_type": "execute_result"
    }
   ],
   "source": [
    "desc_HeavyAtomCount = [Descriptors.HeavyAtomCount(element) for element in mol_list]\n",
    "desc_HeavyAtomCount"
   ]
  },
  {
   "cell_type": "markdown",
   "metadata": {
    "colab_type": "text",
    "id": "iFDGqPQPQYZb"
   },
   "source": [
    "##### **3.2.1.3. Computing the Aromatic Proportion (AP) descriptor**"
   ]
  },
  {
   "cell_type": "markdown",
   "metadata": {
    "colab_type": "text",
    "id": "0xVXJIre5-HC"
   },
   "source": [
    "Computing for a single molecule."
   ]
  },
  {
   "cell_type": "code",
   "execution_count": 33,
   "metadata": {
    "colab": {
     "base_uri": "https://localhost:8080/",
     "height": 34
    },
    "colab_type": "code",
    "id": "fZAwtZTM5WHU",
    "outputId": "cc982887-defb-4a7e-a2d9-670f6264c3e2"
   },
   "outputs": [
    {
     "data": {
      "text/plain": [
       "0.5588235294117647"
      ]
     },
     "execution_count": 33,
     "metadata": {},
     "output_type": "execute_result"
    }
   ],
   "source": [
    "m = Chem.MolFromSmiles('COc1cccc2cc(C(=O)NCCCCN3CCN(c4cccc5nccnc54)CC3)oc21')\n",
    "AromaticAtoms(m)/Descriptors.HeavyAtomCount(m)"
   ]
  },
  {
   "cell_type": "markdown",
   "metadata": {
    "colab_type": "text",
    "id": "JsHdN1ui6BBo"
   },
   "source": [
    "Computing for molecules in the entire dataset."
   ]
  },
  {
   "cell_type": "code",
   "execution_count": 34,
   "metadata": {
    "colab": {
     "base_uri": "https://localhost:8080/",
     "height": 1000
    },
    "colab_type": "code",
    "id": "DogBBjDu4-mI",
    "outputId": "4cf9b4ae-24d0-435a-de3d-a881e86dbb86"
   },
   "outputs": [
    {
     "data": {
      "text/plain": [
       "[0.0,\n",
       " 0.0,\n",
       " 0.0,\n",
       " 0.0,\n",
       " 0.0,\n",
       " 0.0,\n",
       " 0.0,\n",
       " 0.0,\n",
       " 0.6,\n",
       " 0.6,\n",
       " 0.6,\n",
       " 0.6666666666666666,\n",
       " 0.6666666666666666,\n",
       " 0.6,\n",
       " 0.6,\n",
       " 0.6,\n",
       " 0.6666666666666666,\n",
       " 0.6666666666666666,\n",
       " 0.6666666666666666,\n",
       " 0.75,\n",
       " 0.75,\n",
       " 0.0,\n",
       " 0.75,\n",
       " 0.0,\n",
       " 0.0,\n",
       " 0.0,\n",
       " 0.0,\n",
       " 0.6,\n",
       " 0.5,\n",
       " 0.0,\n",
       " 0.6666666666666666,\n",
       " 0.6666666666666666,\n",
       " 0.6666666666666666,\n",
       " 0.4,\n",
       " 0.75,\n",
       " 0.0,\n",
       " 0.75,\n",
       " 0.75,\n",
       " 0.0,\n",
       " 0.0,\n",
       " 0.75,\n",
       " 0.8333333333333334,\n",
       " 0.5,\n",
       " 0.75,\n",
       " 0.0,\n",
       " 0.75,\n",
       " 0.75,\n",
       " 0.6,\n",
       " 0.75,\n",
       " 0.8333333333333334,\n",
       " 0.5,\n",
       " 0.0,\n",
       " 0.8333333333333334,\n",
       " 0.0,\n",
       " 1.0,\n",
       " 0.0,\n",
       " 0.0,\n",
       " 0.9333333333333333,\n",
       " 0.0,\n",
       " 0.0,\n",
       " 0.0,\n",
       " 0.0,\n",
       " 0.9090909090909091,\n",
       " 0.0,\n",
       " 0.0,\n",
       " 0.0,\n",
       " 0.0,\n",
       " 0.0,\n",
       " 0.0,\n",
       " 0.0,\n",
       " 0.0,\n",
       " 0.0,\n",
       " 0.0,\n",
       " 0.0,\n",
       " 0.9090909090909091,\n",
       " 0.0,\n",
       " 0.0,\n",
       " 0.0,\n",
       " 0.0,\n",
       " 0.0,\n",
       " 0.8333333333333334,\n",
       " 0.0,\n",
       " 0.0,\n",
       " 0.0,\n",
       " 0.0,\n",
       " 0.0,\n",
       " 0.0,\n",
       " 0.0,\n",
       " 0.0,\n",
       " 0.0,\n",
       " 0.0,\n",
       " 0.9090909090909091,\n",
       " 0.0,\n",
       " 0.0,\n",
       " 0.8571428571428571,\n",
       " 0.9090909090909091,\n",
       " 0.9333333333333333,\n",
       " 0.6666666666666666,\n",
       " 0.9090909090909091,\n",
       " 0.9090909090909091,\n",
       " 0.7692307692307693,\n",
       " 0.0,\n",
       " 0.0,\n",
       " 0.0,\n",
       " 0.0,\n",
       " 0.0,\n",
       " 0.0,\n",
       " 0.0,\n",
       " 0.0,\n",
       " 0.0,\n",
       " 0.0,\n",
       " 0.0,\n",
       " 0.0,\n",
       " 0.6666666666666666,\n",
       " 0.0,\n",
       " 0.0,\n",
       " 0.5454545454545454,\n",
       " 0.6,\n",
       " 0.6666666666666666,\n",
       " 0.6,\n",
       " 0.6666666666666666,\n",
       " 0.75,\n",
       " 0.631578947368421,\n",
       " 0.631578947368421,\n",
       " 0.6666666666666666,\n",
       " 0.7058823529411765,\n",
       " 0.7058823529411765,\n",
       " 0.6666666666666666,\n",
       " 0.75,\n",
       " 0.0,\n",
       " 0.6666666666666666,\n",
       " 0.6666666666666666,\n",
       " 0.75,\n",
       " 0.7058823529411765,\n",
       " 0.0,\n",
       " 0.0,\n",
       " 0.75,\n",
       " 0.0,\n",
       " 0.0,\n",
       " 0.0,\n",
       " 0.0,\n",
       " 0.0,\n",
       " 0.8571428571428571,\n",
       " 0.6666666666666666,\n",
       " 0.631578947368421,\n",
       " 0.6666666666666666,\n",
       " 0.7058823529411765,\n",
       " 0.7058823529411765,\n",
       " 0.75,\n",
       " 0.5454545454545454,\n",
       " 0.5454545454545454,\n",
       " 0.8,\n",
       " 0.8,\n",
       " 0.6,\n",
       " 0.0,\n",
       " 0.5454545454545454,\n",
       " 0.8,\n",
       " 0.6,\n",
       " 0.6,\n",
       " 0.5454545454545454,\n",
       " 0.6666666666666666,\n",
       " 0.0,\n",
       " 0.0,\n",
       " 0.8333333333333334,\n",
       " 0.0,\n",
       " 0.75,\n",
       " 0.8,\n",
       " 0.8,\n",
       " 0.6,\n",
       " 0.8,\n",
       " 0.6,\n",
       " 0.6,\n",
       " 0.375,\n",
       " 0.6666666666666666,\n",
       " 0.0,\n",
       " 0.0,\n",
       " 0.0,\n",
       " 0.0,\n",
       " 0.6666666666666666,\n",
       " 0.75,\n",
       " 0.46153846153846156,\n",
       " 0.8571428571428571,\n",
       " 0.8571428571428571,\n",
       " 0.6666666666666666,\n",
       " 0.8333333333333334,\n",
       " 0.6666666666666666,\n",
       " 0.75,\n",
       " 0.46153846153846156,\n",
       " 0.8571428571428571,\n",
       " 0.8333333333333334,\n",
       " 0.9333333333333333,\n",
       " 0.9090909090909091,\n",
       " 0.9090909090909091,\n",
       " 0.0,\n",
       " 0.75,\n",
       " 0.0,\n",
       " 0.0,\n",
       " 0.0,\n",
       " 0.0,\n",
       " 0.6666666666666666,\n",
       " 0.9230769230769231,\n",
       " 0.0,\n",
       " 0.9090909090909091,\n",
       " 0.75,\n",
       " 0.0,\n",
       " 0.75,\n",
       " 0.0,\n",
       " 0.0,\n",
       " 0.75,\n",
       " 0.0,\n",
       " 0.0,\n",
       " 0.0,\n",
       " 0.0,\n",
       " 0.0,\n",
       " 0.8333333333333334,\n",
       " 0.6666666666666666,\n",
       " 0.0,\n",
       " 0.0,\n",
       " 0.0,\n",
       " 0.0,\n",
       " 0.9090909090909091,\n",
       " 0.8571428571428571,\n",
       " 0.0,\n",
       " 0.6,\n",
       " 0.8333333333333334,\n",
       " 0.0,\n",
       " 0.0,\n",
       " 0.0,\n",
       " 0.0,\n",
       " 0.0,\n",
       " 0.0,\n",
       " 0.0,\n",
       " 0.0,\n",
       " 0.9333333333333333,\n",
       " 0.0,\n",
       " 0.0,\n",
       " 0.0,\n",
       " 0.0,\n",
       " 0.9090909090909091,\n",
       " 0.0,\n",
       " 0.0,\n",
       " 0.9333333333333333,\n",
       " 0.75,\n",
       " 0.0,\n",
       " 0.0,\n",
       " 0.0,\n",
       " 0.9090909090909091,\n",
       " 0.0,\n",
       " 0.9090909090909091,\n",
       " 0.0,\n",
       " 0.0,\n",
       " 0.0,\n",
       " 0.0,\n",
       " 0.0,\n",
       " 0.0,\n",
       " 0.0,\n",
       " 0.6,\n",
       " 0.0,\n",
       " 0.0,\n",
       " 0.0,\n",
       " 0.0,\n",
       " 0.0,\n",
       " 0.0,\n",
       " 0.0,\n",
       " 0.5454545454545454,\n",
       " 0.6666666666666666,\n",
       " 0.6666666666666666,\n",
       " 0.75,\n",
       " 0.8571428571428571,\n",
       " 0.6666666666666666,\n",
       " 0.6666666666666666,\n",
       " 0.75,\n",
       " 0.46153846153846156,\n",
       " 0.6666666666666666,\n",
       " 0.9230769230769231,\n",
       " 0.75,\n",
       " 0.0,\n",
       " 0.5,\n",
       " 0.0,\n",
       " 0.0,\n",
       " 0.41379310344827586,\n",
       " 0.0,\n",
       " 0.0,\n",
       " 0.42857142857142855,\n",
       " 0.0,\n",
       " 0.0,\n",
       " 0.0,\n",
       " 0.0,\n",
       " 0.0,\n",
       " 0.0,\n",
       " 0.0,\n",
       " 0.0,\n",
       " 0.0,\n",
       " 0.0,\n",
       " 0.0,\n",
       " 0.8571428571428571,\n",
       " 0.0,\n",
       " 0.9,\n",
       " 0.0,\n",
       " 0.75,\n",
       " 0.0,\n",
       " 0.4,\n",
       " 0.0,\n",
       " 0.0,\n",
       " 0.4444444444444444,\n",
       " 0.48,\n",
       " 0.8571428571428571,\n",
       " 0.75,\n",
       " 0.75,\n",
       " 0.6666666666666666,\n",
       " 0.75,\n",
       " 0.75,\n",
       " 0.6666666666666666,\n",
       " 0.0,\n",
       " 0.0,\n",
       " 0.42857142857142855,\n",
       " 0.8571428571428571,\n",
       " 0.6,\n",
       " 0.8333333333333334,\n",
       " 0.0,\n",
       " 0.0,\n",
       " 0.9230769230769231,\n",
       " 0.0,\n",
       " 0.9090909090909091,\n",
       " 0.46153846153846156,\n",
       " 0.0,\n",
       " 0.0,\n",
       " 0.0,\n",
       " 0.0,\n",
       " 0.0,\n",
       " 0.0,\n",
       " 0.5454545454545454,\n",
       " 0.9,\n",
       " 0.0,\n",
       " 0.0,\n",
       " 0.0,\n",
       " 0.3333333333333333,\n",
       " 0.0,\n",
       " 0.0,\n",
       " 0.35294117647058826,\n",
       " 0.6666666666666666,\n",
       " 0.9090909090909091,\n",
       " 0.0,\n",
       " 0.9473684210526315,\n",
       " 0.6666666666666666,\n",
       " 0.0,\n",
       " 0.9473684210526315,\n",
       " 0.9090909090909091,\n",
       " 0.8333333333333334,\n",
       " 0.9473684210526315,\n",
       " 0.9,\n",
       " 0.8333333333333334,\n",
       " 0.9090909090909091,\n",
       " 0.9090909090909091,\n",
       " 0.875,\n",
       " 0.9333333333333333,\n",
       " 0.9333333333333333,\n",
       " 0.4444444444444444,\n",
       " 0.8333333333333334,\n",
       " 0.8333333333333334,\n",
       " 0.0,\n",
       " 0.0,\n",
       " 0.6,\n",
       " 0.38461538461538464,\n",
       " 0.0,\n",
       " 0.6666666666666666,\n",
       " 0.55,\n",
       " 1.0,\n",
       " 0.0,\n",
       " 0.0,\n",
       " 0.9,\n",
       " 0.0,\n",
       " 0.3333333333333333,\n",
       " 0.0,\n",
       " 0.0,\n",
       " 0.0,\n",
       " 0.0,\n",
       " 0.9,\n",
       " 0.0,\n",
       " 0.0,\n",
       " 0.4,\n",
       " 0.4,\n",
       " 0.1875,\n",
       " 0.4,\n",
       " 0.6470588235294118,\n",
       " 0.8333333333333334,\n",
       " 0.5454545454545454,\n",
       " 0.8333333333333334,\n",
       " 0.0,\n",
       " 0.7333333333333333,\n",
       " 0.631578947368421,\n",
       " 0.0,\n",
       " 0.0,\n",
       " 0.5454545454545454,\n",
       " 0.8571428571428571,\n",
       " 0.2857142857142857,\n",
       " 0.75,\n",
       " 1.0,\n",
       " 0.75,\n",
       " 0.7857142857142857,\n",
       " 0.2727272727272727,\n",
       " 0.46153846153846156,\n",
       " 0.4,\n",
       " 0.42857142857142855,\n",
       " 0.375,\n",
       " 0.8571428571428571,\n",
       " 0.0,\n",
       " 0.375,\n",
       " 0.0,\n",
       " 0.4444444444444444,\n",
       " 0.2608695652173913,\n",
       " 0.21428571428571427,\n",
       " 0.75,\n",
       " 0.42857142857142855,\n",
       " 0.2608695652173913,\n",
       " 0.75,\n",
       " 0.6666666666666666,\n",
       " 1.0,\n",
       " 0.8571428571428571,\n",
       " 0.5789473684210527,\n",
       " 0.9411764705882353,\n",
       " 1.0,\n",
       " 1.0,\n",
       " 0.9411764705882353,\n",
       " 1.0,\n",
       " 1.0,\n",
       " 1.0,\n",
       " 1.0,\n",
       " 0.5,\n",
       " 0.75,\n",
       " 0.75,\n",
       " 0.8571428571428571,\n",
       " 1.0,\n",
       " 1.0,\n",
       " 1.0,\n",
       " 0.75,\n",
       " 0.6,\n",
       " 0.5454545454545454,\n",
       " 0.0,\n",
       " 0.8571428571428571,\n",
       " 1.0,\n",
       " 1.0,\n",
       " 0.0,\n",
       " 0.42857142857142855,\n",
       " 0.8,\n",
       " 0.8571428571428571,\n",
       " 0.0,\n",
       " 0.0,\n",
       " 0.0,\n",
       " 0.0,\n",
       " 0.375,\n",
       " 0.5454545454545454,\n",
       " 0.5454545454545454,\n",
       " 0.8,\n",
       " 0.2857142857142857,\n",
       " 0.0,\n",
       " 0.3157894736842105,\n",
       " 0.2857142857142857,\n",
       " 0.0,\n",
       " 0.42857142857142855,\n",
       " 0.0,\n",
       " 0.0,\n",
       " 0.0,\n",
       " 0.0,\n",
       " 0.29411764705882354,\n",
       " 0.375,\n",
       " 0.0,\n",
       " 0.0,\n",
       " 0.6,\n",
       " 0.0,\n",
       " 0.6428571428571429,\n",
       " 0.0,\n",
       " 0.0,\n",
       " 0.0,\n",
       " 0.75,\n",
       " 0.6666666666666666,\n",
       " 1.0,\n",
       " 0.35294117647058826,\n",
       " 0.375,\n",
       " 0.3333333333333333,\n",
       " 0.375,\n",
       " 0.0,\n",
       " 0.5454545454545454,\n",
       " 0.0,\n",
       " 0.0,\n",
       " 0.3,\n",
       " 0.35294117647058826,\n",
       " 0.4,\n",
       " 0.4,\n",
       " 0.0,\n",
       " 0.0,\n",
       " 0.46153846153846156,\n",
       " 0.4444444444444444,\n",
       " 0.0,\n",
       " 0.0,\n",
       " 0.8571428571428571,\n",
       " 0.0,\n",
       " 0.0,\n",
       " 0.0,\n",
       " 0.42857142857142855,\n",
       " 0.0,\n",
       " 0.5454545454545454,\n",
       " 0.42857142857142855,\n",
       " 0.35294117647058826,\n",
       " 0.42857142857142855,\n",
       " 0.6,\n",
       " 0.3333333333333333,\n",
       " 0.7142857142857143,\n",
       " 0.5454545454545454,\n",
       " 0.42857142857142855,\n",
       " 0.8181818181818182,\n",
       " 0.9,\n",
       " 1.0,\n",
       " 0.0,\n",
       " 0.0,\n",
       " 0.0,\n",
       " 0.0,\n",
       " 0.375,\n",
       " 0.5454545454545454,\n",
       " 1.0,\n",
       " 0.0,\n",
       " 0.0,\n",
       " 0.0,\n",
       " 0.6666666666666666,\n",
       " 0.45454545454545453,\n",
       " 0.7272727272727273,\n",
       " 0.375,\n",
       " 0.0,\n",
       " 0.0,\n",
       " 0.0,\n",
       " 0.0,\n",
       " 0.0,\n",
       " 0.0,\n",
       " 0.0,\n",
       " 0.0,\n",
       " 0.0,\n",
       " 0.0,\n",
       " 0.0,\n",
       " 0.0,\n",
       " 0.0,\n",
       " 0.0,\n",
       " 0.0,\n",
       " 0.0,\n",
       " 0.0,\n",
       " 0.0,\n",
       " 0.0,\n",
       " 0.0,\n",
       " 0.0,\n",
       " 0.41379310344827586,\n",
       " 0.3870967741935484,\n",
       " 0.42857142857142855,\n",
       " 0.75,\n",
       " 0.2,\n",
       " 0.7058823529411765,\n",
       " 0.6666666666666666,\n",
       " 0.6666666666666666,\n",
       " 0.631578947368421,\n",
       " 0.0,\n",
       " 0.0,\n",
       " 0.42857142857142855,\n",
       " 0.0,\n",
       " 0.0,\n",
       " 0.5454545454545454,\n",
       " 0.0,\n",
       " 0.0,\n",
       " 0.0,\n",
       " 0.21428571428571427,\n",
       " 0.2608695652173913,\n",
       " 0.2608695652173913,\n",
       " 0.0,\n",
       " 0.6,\n",
       " 0.3157894736842105,\n",
       " 1.0,\n",
       " 1.0,\n",
       " 0.0,\n",
       " 0.0,\n",
       " 0.0,\n",
       " 0.3,\n",
       " 0.35294117647058826,\n",
       " 0.0,\n",
       " 0.7058823529411765,\n",
       " 0.6,\n",
       " 0.0,\n",
       " 0.6,\n",
       " 0.0,\n",
       " 0.0,\n",
       " 0.375,\n",
       " 0.0,\n",
       " 0.0,\n",
       " 0.6,\n",
       " 0.5714285714285714,\n",
       " 0.5714285714285714,\n",
       " 0.0,\n",
       " 0.0,\n",
       " 0.25,\n",
       " 0.0,\n",
       " 0.21428571428571427,\n",
       " 0.0,\n",
       " 0.0,\n",
       " 0.0,\n",
       " 0.4782608695652174,\n",
       " 0.0,\n",
       " 0.4,\n",
       " 0.0,\n",
       " 0.42857142857142855,\n",
       " 0.0,\n",
       " 0.0,\n",
       " 0.2727272727272727,\n",
       " 0.35294117647058826,\n",
       " 0.0,\n",
       " 0.0,\n",
       " 0.21428571428571427,\n",
       " 0.0,\n",
       " 0.375,\n",
       " 0.6666666666666666,\n",
       " 0.9230769230769231,\n",
       " 0.9230769230769231,\n",
       " 0.9230769230769231,\n",
       " 0.0,\n",
       " 0.0,\n",
       " 0.0,\n",
       " 0.3157894736842105,\n",
       " 0.42857142857142855,\n",
       " 0.0,\n",
       " 0.42857142857142855,\n",
       " 0.46153846153846156,\n",
       " 0.5,\n",
       " 0.0,\n",
       " 0.0,\n",
       " 0.0,\n",
       " 0.0,\n",
       " 0.5,\n",
       " 0.3,\n",
       " 0.5714285714285714,\n",
       " 0.0,\n",
       " 0.3,\n",
       " 0.5454545454545454,\n",
       " 0.2857142857142857,\n",
       " 0.3,\n",
       " 0.2608695652173913,\n",
       " 0.0,\n",
       " 0.0,\n",
       " 0.0,\n",
       " 0.2727272727272727,\n",
       " 0.4,\n",
       " 0.0,\n",
       " 0.4,\n",
       " 0.0,\n",
       " 0.3157894736842105,\n",
       " 0.3157894736842105,\n",
       " 0.5625,\n",
       " 0.0,\n",
       " 0.5454545454545454,\n",
       " 0.0,\n",
       " 0.46153846153846156,\n",
       " 0.0,\n",
       " 0.0,\n",
       " 0.0,\n",
       " 0.0,\n",
       " 0.0,\n",
       " 0.0,\n",
       " 0.0,\n",
       " 0.0,\n",
       " 0.0,\n",
       " 0.0,\n",
       " 0.75,\n",
       " 0.0,\n",
       " 0.0,\n",
       " 0.5,\n",
       " 0.5,\n",
       " 0.0,\n",
       " 0.6428571428571429,\n",
       " 0.6111111111111112,\n",
       " 0.2857142857142857,\n",
       " 0.0,\n",
       " 0.5,\n",
       " 0.8181818181818182,\n",
       " 0.7333333333333333,\n",
       " 0.35294117647058826,\n",
       " 0.35294117647058826,\n",
       " 0.5454545454545454,\n",
       " 0.46153846153846156,\n",
       " 0.3333333333333333,\n",
       " 0.375,\n",
       " 0.5,\n",
       " 0.7272727272727273,\n",
       " 0.5454545454545454,\n",
       " 0.6666666666666666,\n",
       " 0.0,\n",
       " 0.0,\n",
       " 0.42857142857142855,\n",
       " 0.375,\n",
       " 1.0,\n",
       " 0.9230769230769231,\n",
       " 0.8571428571428571,\n",
       " 0.0,\n",
       " 0.375,\n",
       " 0.75,\n",
       " 0.3157894736842105,\n",
       " 0.7727272727272727,\n",
       " 0.5142857142857142,\n",
       " 0.375,\n",
       " 0.0,\n",
       " 0.0,\n",
       " 1.0,\n",
       " 0.7142857142857143,\n",
       " 0.0,\n",
       " 0.6153846153846154,\n",
       " 0.0,\n",
       " 0.375,\n",
       " 0.0,\n",
       " 0.0,\n",
       " 0.25,\n",
       " 0.6666666666666666,\n",
       " 0.8181818181818182,\n",
       " 0.0,\n",
       " 0.2727272727272727,\n",
       " 0.0,\n",
       " 0.0,\n",
       " 0.0,\n",
       " 0.0,\n",
       " 0.0,\n",
       " 0.0,\n",
       " 0.5,\n",
       " 0.0,\n",
       " 0.6,\n",
       " 0.5,\n",
       " 0.0,\n",
       " 0.8571428571428571,\n",
       " 0.75,\n",
       " 0.35294117647058826,\n",
       " 0.0,\n",
       " 0.0,\n",
       " 0.0,\n",
       " 0.0,\n",
       " 0.9,\n",
       " 0.6666666666666666,\n",
       " 0.5,\n",
       " 1.0,\n",
       " 1.0,\n",
       " 0.6666666666666666,\n",
       " 0.47368421052631576,\n",
       " 0.8571428571428571,\n",
       " 0.0,\n",
       " 0.375,\n",
       " 0.0,\n",
       " 0.5454545454545454,\n",
       " 0.375,\n",
       " 0.2777777777777778,\n",
       " 0.0,\n",
       " 0.0,\n",
       " 0.6,\n",
       " 0.0,\n",
       " 0.6470588235294118,\n",
       " 0.2727272727272727,\n",
       " 0.8181818181818182,\n",
       " 0.6,\n",
       " 0.0,\n",
       " 0.0,\n",
       " 0.0,\n",
       " 0.42857142857142855,\n",
       " 0.2727272727272727,\n",
       " 0.0,\n",
       " 0.0,\n",
       " 0.6666666666666666,\n",
       " 0.4,\n",
       " 1.0,\n",
       " 0.3,\n",
       " 0.5,\n",
       " 0.0,\n",
       " 0.6842105263157895,\n",
       " 0.0,\n",
       " 0.0,\n",
       " 0.35294117647058826,\n",
       " 0.0,\n",
       " 0.0,\n",
       " 0.4,\n",
       " 0.5714285714285714,\n",
       " 0.0,\n",
       " 0.0,\n",
       " 0.0,\n",
       " 0.0,\n",
       " 0.0,\n",
       " 0.75,\n",
       " 0.75,\n",
       " 0.75,\n",
       " 0.6,\n",
       " 0.6818181818181818,\n",
       " 0.0,\n",
       " 0.0,\n",
       " 0.0,\n",
       " 0.7142857142857143,\n",
       " 0.3,\n",
       " 0.0,\n",
       " 0.46153846153846156,\n",
       " 0.0,\n",
       " 0.0,\n",
       " 0.0,\n",
       " 0.9,\n",
       " 0.3,\n",
       " 0.0,\n",
       " 0.0,\n",
       " 0.8421052631578947,\n",
       " 0.0,\n",
       " 0.6875,\n",
       " 0.35294117647058826,\n",
       " 0.0,\n",
       " 0.3333333333333333,\n",
       " 0.8125,\n",
       " 0.5714285714285714,\n",
       " 0.0,\n",
       " 0.0,\n",
       " 0.6,\n",
       " 0.0,\n",
       " 0.0,\n",
       " 0.0,\n",
       " 0.0,\n",
       " 0.46153846153846156,\n",
       " 0.0,\n",
       " 0.0,\n",
       " 0.0,\n",
       " 0.6,\n",
       " 0.0,\n",
       " 0.0,\n",
       " 0.0,\n",
       " 0.0,\n",
       " 0.0,\n",
       " 0.0,\n",
       " 0.0,\n",
       " 0.0,\n",
       " 0.6,\n",
       " 0.5454545454545454,\n",
       " 0.0,\n",
       " 0.6666666666666666,\n",
       " 0.3157894736842105,\n",
       " 0.5,\n",
       " 0.5454545454545454,\n",
       " 0.4,\n",
       " 0.4166666666666667,\n",
       " 0.42857142857142855,\n",
       " 0.4166666666666667,\n",
       " 0.75,\n",
       " 0.4,\n",
       " 0.0,\n",
       " 0.75,\n",
       " 0.6,\n",
       " 0.6,\n",
       " 0.6,\n",
       " 0.42857142857142855,\n",
       " 0.1935483870967742,\n",
       " 0.46153846153846156,\n",
       " 0.7272727272727273,\n",
       " 0.75,\n",
       " 0.5454545454545454,\n",
       " 0.0,\n",
       " 0.6666666666666666,\n",
       " 0.0,\n",
       " 0.5,\n",
       " 1.0,\n",
       " 1.0,\n",
       " 0.35294117647058826,\n",
       " 0.0,\n",
       " 0.6666666666666666,\n",
       " 0.6,\n",
       " 0.5714285714285714,\n",
       " 0.6666666666666666,\n",
       " 0.24,\n",
       " 0.45454545454545453,\n",
       " 0.5454545454545454,\n",
       " 0.35714285714285715,\n",
       " 0.2727272727272727,\n",
       " 0.5454545454545454,\n",
       " 0.5714285714285714,\n",
       " 0.6666666666666666,\n",
       " 0.0,\n",
       " 0.6666666666666666,\n",
       " 0.29411764705882354,\n",
       " 0.0,\n",
       " 0.0,\n",
       " 0.75,\n",
       " 0.0,\n",
       " 0.6153846153846154,\n",
       " 0.0,\n",
       " 0.0,\n",
       " 0.0,\n",
       " 0.6,\n",
       " 0.6666666666666666,\n",
       " 0.75,\n",
       " 0.75,\n",
       " 0.75,\n",
       " 0.75,\n",
       " 0.6,\n",
       " 0.0,\n",
       " 0.0,\n",
       " 0.75,\n",
       " 0.6,\n",
       " 0.6666666666666666,\n",
       " 0.6,\n",
       " 0.5454545454545454,\n",
       " 0.6,\n",
       " 0.6,\n",
       " 0.2608695652173913,\n",
       " 0.5555555555555556,\n",
       " 0.75,\n",
       " 0.5,\n",
       " 0.0,\n",
       " 0.6,\n",
       " 0.3333333333333333,\n",
       " 0.75,\n",
       " 0.5,\n",
       " 0.8571428571428571,\n",
       " 0.6666666666666666,\n",
       " 0.6666666666666666,\n",
       " 0.75,\n",
       " 0.0,\n",
       " 0.3333333333333333,\n",
       " 0.8571428571428571,\n",
       " 0.5454545454545454,\n",
       " 0.75,\n",
       " 0.5454545454545454,\n",
       " 0.75,\n",
       " 0.75,\n",
       " 0.75,\n",
       " 0.6,\n",
       " 0.75,\n",
       " 0.0,\n",
       " 0.5217391304347826,\n",
       " 0.5454545454545454,\n",
       " 0.0,\n",
       " 0.5,\n",
       " 0.5454545454545454,\n",
       " 0.0,\n",
       " 0.0,\n",
       " 0.0,\n",
       " 0.0,\n",
       " 0.5454545454545454,\n",
       " 0.0,\n",
       " 0.5,\n",
       " 0.46153846153846156,\n",
       " 1.0,\n",
       " 0.5454545454545454,\n",
       " 0.46153846153846156,\n",
       " 1.0,\n",
       " 1.0,\n",
       " 0.6666666666666666,\n",
       " 0.5454545454545454,\n",
       " 0.35294117647058826,\n",
       " 0.8571428571428571,\n",
       " 0.75,\n",
       " 0.46153846153846156,\n",
       " 0.5217391304347826,\n",
       " 0.75,\n",
       " 0.75,\n",
       " 0.6,\n",
       " 0.631578947368421,\n",
       " 0.0,\n",
       " 0.42857142857142855,\n",
       " 0.3157894736842105,\n",
       " 0.0,\n",
       " 0.5454545454545454,\n",
       " 0.6,\n",
       " 0.5454545454545454,\n",
       " 0.6666666666666666,\n",
       " 1.0,\n",
       " 0.2857142857142857,\n",
       " 0.5454545454545454,\n",
       " 0.0,\n",
       " 0.35294117647058826,\n",
       " 0.5217391304347826,\n",
       " 0.6,\n",
       " 0.75,\n",
       " 0.6,\n",
       " 0.5454545454545454,\n",
       " 0.6,\n",
       " 0.6,\n",
       " 0.9230769230769231,\n",
       " 0.0,\n",
       " 0.0,\n",
       " 0.0,\n",
       " 0.0,\n",
       " 0.375,\n",
       " 0.0,\n",
       " 0.3333333333333333,\n",
       " 0.0,\n",
       " 0.375,\n",
       " 0.375,\n",
       " 0.42857142857142855,\n",
       " 0.0,\n",
       " 0.46153846153846156,\n",
       " 0.4,\n",
       " 0.0,\n",
       " 0.5,\n",
       " 0.0,\n",
       " 0.0,\n",
       " 0.4,\n",
       " 0.0,\n",
       " 0.0,\n",
       " 0.0,\n",
       " 0.0,\n",
       " 0.6666666666666666,\n",
       " ...]"
      ]
     },
     "execution_count": 34,
     "metadata": {},
     "output_type": "execute_result"
    }
   ],
   "source": [
    "desc_AromaticProportion = [AromaticAtoms(element)/Descriptors.HeavyAtomCount(element) for element in mol_list]\n",
    "desc_AromaticProportion"
   ]
  },
  {
   "cell_type": "code",
   "execution_count": 35,
   "metadata": {
    "colab": {
     "base_uri": "https://localhost:8080/",
     "height": 419
    },
    "colab_type": "code",
    "id": "9zovyVTQOxvA",
    "outputId": "9cb8eace-7c9d-4888-dd12-69d5e1b344c0"
   },
   "outputs": [
    {
     "data": {
      "text/html": [
       "<div>\n",
       "<style scoped>\n",
       "    .dataframe tbody tr th:only-of-type {\n",
       "        vertical-align: middle;\n",
       "    }\n",
       "\n",
       "    .dataframe tbody tr th {\n",
       "        vertical-align: top;\n",
       "    }\n",
       "\n",
       "    .dataframe thead th {\n",
       "        text-align: right;\n",
       "    }\n",
       "</style>\n",
       "<table border=\"1\" class=\"dataframe\">\n",
       "  <thead>\n",
       "    <tr style=\"text-align: right;\">\n",
       "      <th></th>\n",
       "      <th>AromaticProportion</th>\n",
       "    </tr>\n",
       "  </thead>\n",
       "  <tbody>\n",
       "    <tr>\n",
       "      <th>0</th>\n",
       "      <td>0.000000</td>\n",
       "    </tr>\n",
       "    <tr>\n",
       "      <th>1</th>\n",
       "      <td>0.000000</td>\n",
       "    </tr>\n",
       "    <tr>\n",
       "      <th>2</th>\n",
       "      <td>0.000000</td>\n",
       "    </tr>\n",
       "    <tr>\n",
       "      <th>3</th>\n",
       "      <td>0.000000</td>\n",
       "    </tr>\n",
       "    <tr>\n",
       "      <th>4</th>\n",
       "      <td>0.000000</td>\n",
       "    </tr>\n",
       "    <tr>\n",
       "      <th>...</th>\n",
       "      <td>...</td>\n",
       "    </tr>\n",
       "    <tr>\n",
       "      <th>1139</th>\n",
       "      <td>0.000000</td>\n",
       "    </tr>\n",
       "    <tr>\n",
       "      <th>1140</th>\n",
       "      <td>0.333333</td>\n",
       "    </tr>\n",
       "    <tr>\n",
       "      <th>1141</th>\n",
       "      <td>0.695652</td>\n",
       "    </tr>\n",
       "    <tr>\n",
       "      <th>1142</th>\n",
       "      <td>0.521739</td>\n",
       "    </tr>\n",
       "    <tr>\n",
       "      <th>1143</th>\n",
       "      <td>0.461538</td>\n",
       "    </tr>\n",
       "  </tbody>\n",
       "</table>\n",
       "<p>1144 rows × 1 columns</p>\n",
       "</div>"
      ],
      "text/plain": [
       "      AromaticProportion\n",
       "0               0.000000\n",
       "1               0.000000\n",
       "2               0.000000\n",
       "3               0.000000\n",
       "4               0.000000\n",
       "...                  ...\n",
       "1139            0.000000\n",
       "1140            0.333333\n",
       "1141            0.695652\n",
       "1142            0.521739\n",
       "1143            0.461538\n",
       "\n",
       "[1144 rows x 1 columns]"
      ]
     },
     "execution_count": 35,
     "metadata": {},
     "output_type": "execute_result"
    }
   ],
   "source": [
    "df_desc_AromaticProportion = pd.DataFrame(desc_AromaticProportion, columns=['AromaticProportion'])\n",
    "df_desc_AromaticProportion"
   ]
  },
  {
   "cell_type": "markdown",
   "metadata": {
    "colab_type": "text",
    "id": "3ZKZKPOuCVTY"
   },
   "source": [
    "### **3.3. X matrix (Combining all computed descriptors into 1 dataframe)**"
   ]
  },
  {
   "cell_type": "code",
   "execution_count": null,
   "metadata": {
    "colab": {
     "base_uri": "https://localhost:8080/",
     "height": 419
    },
    "colab_type": "code",
    "id": "6VFAdZwbCg0T",
    "outputId": "8f57991c-e0cc-486c-b33c-8f991d1fb7d2"
   },
   "outputs": [],
   "source": [
    "df"
   ]
  },
  {
   "cell_type": "code",
   "execution_count": null,
   "metadata": {
    "colab": {
     "base_uri": "https://localhost:8080/",
     "height": 419
    },
    "colab_type": "code",
    "id": "4HygAkqJCk6z",
    "outputId": "a7921fd7-2041-4ac2-9166-8dff6118f5d4"
   },
   "outputs": [],
   "source": [
    "df_desc_AromaticProportion"
   ]
  },
  {
   "cell_type": "markdown",
   "metadata": {
    "colab_type": "text",
    "id": "KJZT1Ij7Cm7W"
   },
   "source": [
    "Let's combine the 2 dataframes to produce the **X** matrix"
   ]
  },
  {
   "cell_type": "code",
   "execution_count": null,
   "metadata": {
    "colab": {
     "base_uri": "https://localhost:8080/",
     "height": 419
    },
    "colab_type": "code",
    "id": "_lYBhrsaCqEq",
    "outputId": "80b49e5d-d0f4-447e-d707-1a0676f52b0a"
   },
   "outputs": [],
   "source": [
    "X = pd.concat([df,df_desc_AromaticProportion], axis=1)\n",
    "X"
   ]
  },
  {
   "cell_type": "markdown",
   "metadata": {
    "colab_type": "text",
    "id": "zZI9k4h6FsPF"
   },
   "source": [
    "### **3.4. Y matrix**"
   ]
  },
  {
   "cell_type": "code",
   "execution_count": null,
   "metadata": {
    "colab": {
     "base_uri": "https://localhost:8080/",
     "height": 204
    },
    "colab_type": "code",
    "id": "OazcNGkMHCu1",
    "outputId": "5e747e4a-4519-44d1-ab04-cf4475eef243"
   },
   "outputs": [],
   "source": [
    "sol.head()"
   ]
  },
  {
   "cell_type": "markdown",
   "metadata": {
    "colab_type": "text",
    "id": "6m4Akv3rHG3E"
   },
   "source": [
    "Assigning the second column (index 1) to the Y matrix"
   ]
  },
  {
   "cell_type": "code",
   "execution_count": null,
   "metadata": {
    "colab": {
     "base_uri": "https://localhost:8080/",
     "height": 221
    },
    "colab_type": "code",
    "id": "fcvXs7R7FrbC",
    "outputId": "9e339bb1-0cd2-4df2-cbce-1fdb156e8387"
   },
   "outputs": [],
   "source": [
    "Y = sol.iloc[:,1]\n",
    "Y"
   ]
  },
  {
   "cell_type": "markdown",
   "metadata": {
    "colab_type": "text",
    "id": "qQYE-jCRSmCn"
   },
   "source": [
    "---"
   ]
  },
  {
   "cell_type": "markdown",
   "metadata": {
    "colab_type": "text",
    "id": "SzrfuUZNFg_X"
   },
   "source": [
    "## **Data split**"
   ]
  },
  {
   "cell_type": "code",
   "execution_count": null,
   "metadata": {
    "colab": {},
    "colab_type": "code",
    "id": "dMRn8EVjFlrT"
   },
   "outputs": [],
   "source": [
    "from sklearn.model_selection import train_test_split"
   ]
  },
  {
   "cell_type": "code",
   "execution_count": null,
   "metadata": {
    "colab": {},
    "colab_type": "code",
    "id": "aOIAljc1FmXb"
   },
   "outputs": [],
   "source": [
    "X_train, X_test, Y_train, Y_test = train_test_split(X, Y, test_size=0.2)"
   ]
  },
  {
   "cell_type": "markdown",
   "metadata": {
    "colab_type": "text",
    "id": "39nTAc3UFUMW"
   },
   "source": [
    "## **Linear Regression Model**"
   ]
  },
  {
   "cell_type": "code",
   "execution_count": null,
   "metadata": {
    "colab": {},
    "colab_type": "code",
    "id": "K0MokzGBCimk"
   },
   "outputs": [],
   "source": [
    "from sklearn import linear_model\n",
    "from sklearn.metrics import mean_squared_error, r2_score"
   ]
  },
  {
   "cell_type": "code",
   "execution_count": null,
   "metadata": {
    "colab": {
     "base_uri": "https://localhost:8080/",
     "height": 34
    },
    "colab_type": "code",
    "id": "vkR1siPuFZ6X",
    "outputId": "b54e1380-d6a3-4946-90d5-593c7b0f8700"
   },
   "outputs": [],
   "source": [
    "model = linear_model.LinearRegression()\n",
    "model.fit(X_train, Y_train)"
   ]
  },
  {
   "cell_type": "markdown",
   "metadata": {
    "colab_type": "text",
    "id": "aG4DMzc5Rks9"
   },
   "source": [
    "### **Predicts the X_train**"
   ]
  },
  {
   "cell_type": "code",
   "execution_count": null,
   "metadata": {
    "colab": {},
    "colab_type": "code",
    "id": "tZr9CBGvRp1F"
   },
   "outputs": [],
   "source": [
    "Y_pred_train = model.predict(X_train)"
   ]
  },
  {
   "cell_type": "code",
   "execution_count": null,
   "metadata": {
    "colab": {
     "base_uri": "https://localhost:8080/",
     "height": 85
    },
    "colab_type": "code",
    "id": "0x3saPCyRtJP",
    "outputId": "0acd9a71-53dd-442c-9b7f-37bdda543863"
   },
   "outputs": [],
   "source": [
    "print('Coefficients:', model.coef_)\n",
    "print('Intercept:', model.intercept_)\n",
    "print('Mean squared error (MSE): %.2f'\n",
    "      % mean_squared_error(Y_train, Y_pred_train))\n",
    "print('Coefficient of determination (R^2): %.2f'\n",
    "      % r2_score(Y_train, Y_pred_train))"
   ]
  },
  {
   "cell_type": "markdown",
   "metadata": {
    "colab_type": "text",
    "id": "M6evZTPNRecd"
   },
   "source": [
    "### **Predicts the X_test**"
   ]
  },
  {
   "cell_type": "code",
   "execution_count": null,
   "metadata": {
    "colab": {},
    "colab_type": "code",
    "id": "I_eFbrlaHhPU"
   },
   "outputs": [],
   "source": [
    "Y_pred_test = model.predict(X_test)"
   ]
  },
  {
   "cell_type": "code",
   "execution_count": null,
   "metadata": {
    "colab": {
     "base_uri": "https://localhost:8080/",
     "height": 85
    },
    "colab_type": "code",
    "id": "TQnDfyl5HkUr",
    "outputId": "fbbf18a7-a1e8-4d3c-bb82-b2c33046c9c1"
   },
   "outputs": [],
   "source": [
    "print('Coefficients:', model.coef_)\n",
    "print('Intercept:', model.intercept_)\n",
    "print('Mean squared error (MSE): %.2f'\n",
    "      % mean_squared_error(Y_test, Y_pred_test))\n",
    "print('Coefficient of determination (R^2): %.2f'\n",
    "      % r2_score(Y_test, Y_pred_test))"
   ]
  },
  {
   "cell_type": "markdown",
   "metadata": {
    "colab_type": "text",
    "id": "nERFfdQBRFF5"
   },
   "source": [
    "### **Linear Regression Equation**"
   ]
  },
  {
   "cell_type": "markdown",
   "metadata": {
    "colab_type": "text",
    "id": "j3xLiGWHFiY1"
   },
   "source": [
    "The work of Delaney$^1$ provided the following linear regression equation:\n",
    "\n",
    "> LogS = 0.16 -  0.63 cLogP - 0.0062 MW + 0.066 RB - 0.74 AP\n",
    "\n",
    "The reproduction by Pat Walters$^2$ provided the following:\n",
    "\n",
    "> LogS = 0.26 -  0.74 LogP - 0.0066 MW + 0.0034 RB - 0.42 AP\n",
    "\n",
    "This notebook's reproduction gave the following equation:\n",
    "\n",
    "* Based on the Train set\n",
    "> LogS = 0.30 -0.75 LogP - .0066 MW -0.0041 RB - 0.36 AP\n",
    "\n",
    "* Based on the Full dataset\n",
    "> LogS =  0.26 -0.74 LogP - 0.0066 + MW 0.0032 RB - 0.42 AP"
   ]
  },
  {
   "cell_type": "markdown",
   "metadata": {
    "colab_type": "text",
    "id": "FaWyYnMbWtYu"
   },
   "source": [
    "#### **Our linear regression equation**"
   ]
  },
  {
   "cell_type": "code",
   "execution_count": null,
   "metadata": {
    "colab": {
     "base_uri": "https://localhost:8080/",
     "height": 34
    },
    "colab_type": "code",
    "id": "0TH6J9evHIIE",
    "outputId": "62464dfb-b049-4b0c-f1a7-18f375ae74b5"
   },
   "outputs": [],
   "source": [
    "print('LogS = %.2f %.2f LogP %.4f MW %.4f RB %.2f AP' % (model.intercept_, model.coef_[0], model.coef_[1], model.coef_[2], model.coef_[3] ) )"
   ]
  },
  {
   "cell_type": "markdown",
   "metadata": {
    "colab_type": "text",
    "id": "VcJyUzsLSz2A"
   },
   "source": [
    "The same equation can also be produced with the following code (which breaks up the previous one-line code into several comprehensible lines."
   ]
  },
  {
   "cell_type": "code",
   "execution_count": null,
   "metadata": {
    "colab": {},
    "colab_type": "code",
    "id": "byUbJ9QqK5gA"
   },
   "outputs": [],
   "source": [
    "yintercept = '%.2f' % model.intercept_\n",
    "LogP = '%.2f LogP' % model.coef_[0]\n",
    "MW = '%.4f MW' % model.coef_[1]\n",
    "RB = '%.4f RB' % model.coef_[2]\n",
    "AP = '%.2f AP' % model.coef_[3]"
   ]
  },
  {
   "cell_type": "code",
   "execution_count": null,
   "metadata": {
    "colab": {
     "base_uri": "https://localhost:8080/",
     "height": 34
    },
    "colab_type": "code",
    "id": "QY-9rh--S-6g",
    "outputId": "95fe3bb9-5ad7-47df-cf10-5e302d0ab705"
   },
   "outputs": [],
   "source": [
    "print('LogS = ' + \n",
    "      ' ' + \n",
    "      yintercept + \n",
    "      ' ' + \n",
    "      LogP + \n",
    "      ' ' + \n",
    "      MW + \n",
    "      ' ' + \n",
    "      RB + \n",
    "      ' ' + \n",
    "      AP)"
   ]
  },
  {
   "cell_type": "markdown",
   "metadata": {
    "colab_type": "text",
    "id": "R3lRkSOJRm1q"
   },
   "source": [
    "#### **Use entire dataset for model training (For Comparison)**"
   ]
  },
  {
   "cell_type": "code",
   "execution_count": null,
   "metadata": {
    "colab": {
     "base_uri": "https://localhost:8080/",
     "height": 34
    },
    "colab_type": "code",
    "id": "QUye6SsIRl9T",
    "outputId": "51266238-b806-4042-e5dc-9c657b234c48"
   },
   "outputs": [],
   "source": [
    "full = linear_model.LinearRegression()\n",
    "full.fit(X, Y)"
   ]
  },
  {
   "cell_type": "code",
   "execution_count": null,
   "metadata": {
    "colab": {},
    "colab_type": "code",
    "id": "6tMI8n0oR1b5"
   },
   "outputs": [],
   "source": [
    "full_pred = model.predict(X)"
   ]
  },
  {
   "cell_type": "code",
   "execution_count": null,
   "metadata": {
    "colab": {
     "base_uri": "https://localhost:8080/",
     "height": 85
    },
    "colab_type": "code",
    "id": "7ZVD8Fg1R6zt",
    "outputId": "a684f308-4c56-4e41-f228-0ae03dedd206"
   },
   "outputs": [],
   "source": [
    "print('Coefficients:', full.coef_)\n",
    "print('Intercept:', full.intercept_)\n",
    "print('Mean squared error (MSE): %.2f'\n",
    "      % mean_squared_error(Y, full_pred))\n",
    "print('Coefficient of determination (R^2): %.2f'\n",
    "      % r2_score(Y, full_pred))"
   ]
  },
  {
   "cell_type": "code",
   "execution_count": null,
   "metadata": {
    "colab": {},
    "colab_type": "code",
    "id": "AFYYzcc1VqIo"
   },
   "outputs": [],
   "source": [
    "full_yintercept = '%.2f' % full.intercept_\n",
    "full_LogP = '%.2f LogP' % full.coef_[0]\n",
    "full_MW = '%.4f MW' % full.coef_[1]\n",
    "full_RB = '+ %.4f RB' % full.coef_[2]\n",
    "full_AP = '%.2f AP' % full.coef_[3]"
   ]
  },
  {
   "cell_type": "code",
   "execution_count": null,
   "metadata": {
    "colab": {
     "base_uri": "https://localhost:8080/",
     "height": 34
    },
    "colab_type": "code",
    "id": "zwU4QJhhVsKb",
    "outputId": "698a51bd-c785-438e-ecaa-16040938b6ac"
   },
   "outputs": [],
   "source": [
    "print('LogS = ' + \n",
    "      ' ' + \n",
    "      full_yintercept + \n",
    "      ' ' + \n",
    "      full_LogP + \n",
    "      ' ' + \n",
    "      full_MW + \n",
    "      ' ' + \n",
    "      full_RB + \n",
    "      ' ' + \n",
    "      full_AP)"
   ]
  },
  {
   "cell_type": "markdown",
   "metadata": {
    "colab_type": "text",
    "id": "qp-hjUv4IWe-"
   },
   "source": [
    "## **Scatter plot of experimental vs. predicted LogS**"
   ]
  },
  {
   "cell_type": "code",
   "execution_count": null,
   "metadata": {
    "colab": {},
    "colab_type": "code",
    "id": "hZDdRiPWIZbX"
   },
   "outputs": [],
   "source": [
    "import matplotlib.pyplot as plt"
   ]
  },
  {
   "cell_type": "markdown",
   "metadata": {
    "colab_type": "text",
    "id": "Q6bP41fKEY9O"
   },
   "source": [
    "### **Quick check of the variable dimensions of Train and Test sets**"
   ]
  },
  {
   "cell_type": "code",
   "execution_count": null,
   "metadata": {
    "colab": {
     "base_uri": "https://localhost:8080/",
     "height": 34
    },
    "colab_type": "code",
    "id": "LA5dH5oiEUnP",
    "outputId": "62c0dca1-bd6f-47d1-d043-9acd4e55ac91"
   },
   "outputs": [],
   "source": [
    "Y_train.shape, Y_pred_train.shape"
   ]
  },
  {
   "cell_type": "code",
   "execution_count": null,
   "metadata": {
    "colab": {
     "base_uri": "https://localhost:8080/",
     "height": 34
    },
    "colab_type": "code",
    "id": "HIu7YbbFP-7o",
    "outputId": "fd9558f7-05cb-4810-dfc9-ce549d3b0642"
   },
   "outputs": [],
   "source": [
    "Y_test.shape, Y_pred_test.shape"
   ]
  },
  {
   "cell_type": "markdown",
   "metadata": {
    "colab_type": "text",
    "id": "OHqv3TlYa5qF"
   },
   "source": [
    "### **Vertical plot**"
   ]
  },
  {
   "cell_type": "code",
   "execution_count": null,
   "metadata": {
    "colab": {
     "base_uri": "https://localhost:8080/",
     "height": 660
    },
    "colab_type": "code",
    "id": "shQPfrHIOmRD",
    "outputId": "8a5571c8-5f0b-41bf-de8b-c736e89bb5f3"
   },
   "outputs": [],
   "source": [
    "plt.figure(figsize=(5,11))\n",
    "\n",
    "# 2 row, 1 column, plot 1\n",
    "plt.subplot(2, 1, 1)\n",
    "plt.scatter(x=Y_train, y=Y_pred_train, c=\"#7CAE00\", alpha=0.3)\n",
    "\n",
    "# Add trendline\n",
    "# https://stackoverflow.com/questions/26447191/how-to-add-trendline-in-python-matplotlib-dot-scatter-graphs\n",
    "z = np.polyfit(Y_train, Y_pred_train, 1)\n",
    "p = np.poly1d(z)\n",
    "plt.plot(Y_test,p(Y_test),\"#F8766D\")\n",
    "\n",
    "plt.ylabel('Predicted LogS')\n",
    "\n",
    "\n",
    "# 2 row, 1 column, plot 2\n",
    "plt.subplot(2, 1, 2)\n",
    "plt.scatter(x=Y_test, y=Y_pred_test, c=\"#619CFF\", alpha=0.3)\n",
    "\n",
    "z = np.polyfit(Y_test, Y_pred_test, 1)\n",
    "p = np.poly1d(z)\n",
    "plt.plot(Y_test,p(Y_test),\"#F8766D\")\n",
    "\n",
    "plt.ylabel('Predicted LogS')\n",
    "plt.xlabel('Experimental LogS')\n",
    "\n",
    "plt.savefig('plot_vertical_logS.png')\n",
    "plt.savefig('plot_vertical_logS.pdf')\n",
    "plt.show()"
   ]
  },
  {
   "cell_type": "markdown",
   "metadata": {
    "colab_type": "text",
    "id": "PswCQ7Yra_CW"
   },
   "source": [
    "### **Horizontal plot**"
   ]
  },
  {
   "cell_type": "code",
   "execution_count": null,
   "metadata": {
    "colab": {
     "base_uri": "https://localhost:8080/",
     "height": 334
    },
    "colab_type": "code",
    "id": "xG7NWEscT8QO",
    "outputId": "d967beae-01a4-49a0-d9f9-fb37a91e50fb"
   },
   "outputs": [],
   "source": [
    "plt.figure(figsize=(11,5))\n",
    "\n",
    "# 1 row, 2 column, plot 1\n",
    "plt.subplot(1, 2, 1)\n",
    "plt.scatter(x=Y_train, y=Y_pred_train, c=\"#7CAE00\", alpha=0.3)\n",
    "\n",
    "z = np.polyfit(Y_train, Y_pred_train, 1)\n",
    "p = np.poly1d(z)\n",
    "plt.plot(Y_test,p(Y_test),\"#F8766D\")\n",
    "\n",
    "plt.ylabel('Predicted LogS')\n",
    "plt.xlabel('Experimental LogS')\n",
    "\n",
    "# 1 row, 2 column, plot 2\n",
    "plt.subplot(1, 2, 2)\n",
    "plt.scatter(x=Y_test, y=Y_pred_test, c=\"#619CFF\", alpha=0.3)\n",
    "\n",
    "z = np.polyfit(Y_test, Y_pred_test, 1)\n",
    "p = np.poly1d(z)\n",
    "plt.plot(Y_test,p(Y_test),\"#F8766D\")\n",
    "\n",
    "plt.xlabel('Experimental LogS')\n",
    "\n",
    "plt.savefig('plot_horizontal_logS.png')\n",
    "plt.savefig('plot_horizontal_logS.pdf')\n",
    "plt.show()"
   ]
  },
  {
   "cell_type": "code",
   "execution_count": null,
   "metadata": {
    "colab": {
     "base_uri": "https://localhost:8080/",
     "height": 153
    },
    "colab_type": "code",
    "id": "WXn0vFThYYFT",
    "outputId": "2f773866-f4d9-40ae-8215-630271755cec"
   },
   "outputs": [],
   "source": [
    "! ls -l"
   ]
  },
  {
   "cell_type": "markdown",
   "metadata": {
    "colab_type": "text",
    "id": "ARiv3f1iC565"
   },
   "source": [
    "---"
   ]
  },
  {
   "cell_type": "markdown",
   "metadata": {
    "colab_type": "text",
    "id": "jwM1QHeLbxJl"
   },
   "source": [
    "## **Reference**\n",
    "\n",
    "1. John S. Delaney. [ESOL:  Estimating Aqueous Solubility Directly from Molecular Structure](https://pubs.acs.org/doi/10.1021/ci034243x). ***J. Chem. Inf. Comput. Sci.*** 2004, 44, 3, 1000-1005.\n",
    "\n",
    "2. Pat Walters. [Predicting Aqueous Solubility - It's Harder Than It Looks](http://practicalcheminformatics.blogspot.com/2018/09/predicting-aqueous-solubility-its.html). ***Practical Cheminformatics Blog***\n",
    "\n",
    "3. Bharath Ramsundar, Peter Eastman, Patrick Walters, and Vijay Pande. [Deep Learning for the Life Sciences: Applying Deep Learning to Genomics, Microscopy, Drug Discovery, and More](https://learning.oreilly.com/library/view/deep-learning-for/9781492039822/), O'Reilly, 2019.\n",
    "\n",
    "4. [Supplementary file](https://pubs.acs.org/doi/10.1021/ci034243x) from Delaney's ESOL:  Estimating Aqueous Solubility Directly from Molecular Structure."
   ]
  }
 ],
 "metadata": {
  "colab": {
   "collapsed_sections": [],
   "name": "cheminformatics-predicting-solubility.ipynb",
   "provenance": []
  },
  "kernelspec": {
   "display_name": "Python 3 (ipykernel)",
   "language": "python",
   "name": "python3"
  },
  "language_info": {
   "codemirror_mode": {
    "name": "ipython",
    "version": 3
   },
   "file_extension": ".py",
   "mimetype": "text/x-python",
   "name": "python",
   "nbconvert_exporter": "python",
   "pygments_lexer": "ipython3",
   "version": "3.10.4"
  }
 },
 "nbformat": 4,
 "nbformat_minor": 4
}
